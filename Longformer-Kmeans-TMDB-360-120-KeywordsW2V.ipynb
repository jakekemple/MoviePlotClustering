{
 "cells": [
  {
   "cell_type": "code",
   "execution_count": 1,
   "id": "87b072ea",
   "metadata": {
    "collapsed": true,
    "execution": {
     "iopub.execute_input": "2023-05-30T07:02:55.580005Z",
     "iopub.status.busy": "2023-05-30T07:02:55.579390Z",
     "iopub.status.idle": "2023-05-30T07:04:40.873006Z",
     "shell.execute_reply": "2023-05-30T07:04:40.871729Z"
    },
    "jupyter": {
     "outputs_hidden": true
    },
    "papermill": {
     "duration": 105.303087,
     "end_time": "2023-05-30T07:04:40.876013",
     "exception": false,
     "start_time": "2023-05-30T07:02:55.572926",
     "status": "completed"
    },
    "tags": []
   },
   "outputs": [
    {
     "name": "stderr",
     "output_type": "stream",
     "text": [
      "D0530 07:03:27.447953142      13 config.cc:119]                        gRPC EXPERIMENT tcp_frame_size_tuning               OFF (default:OFF)\n",
      "D0530 07:03:27.447984390      13 config.cc:119]                        gRPC EXPERIMENT tcp_rcv_lowat                       OFF (default:OFF)\n",
      "D0530 07:03:27.447988354      13 config.cc:119]                        gRPC EXPERIMENT peer_state_based_framing            OFF (default:OFF)\n",
      "D0530 07:03:27.447991219      13 config.cc:119]                        gRPC EXPERIMENT flow_control_fixes                  ON  (default:ON)\n",
      "D0530 07:03:27.447993719      13 config.cc:119]                        gRPC EXPERIMENT memory_pressure_controller          OFF (default:OFF)\n",
      "D0530 07:03:27.447996445      13 config.cc:119]                        gRPC EXPERIMENT unconstrained_max_quota_buffer_size OFF (default:OFF)\n",
      "D0530 07:03:27.447998872      13 config.cc:119]                        gRPC EXPERIMENT new_hpack_huffman_decoder           ON  (default:ON)\n",
      "D0530 07:03:27.448001504      13 config.cc:119]                        gRPC EXPERIMENT event_engine_client                 OFF (default:OFF)\n",
      "D0530 07:03:27.448003907      13 config.cc:119]                        gRPC EXPERIMENT monitoring_experiment               ON  (default:ON)\n",
      "D0530 07:03:27.448006272      13 config.cc:119]                        gRPC EXPERIMENT promise_based_client_call           OFF (default:OFF)\n",
      "D0530 07:03:27.448008560      13 config.cc:119]                        gRPC EXPERIMENT free_large_allocator                OFF (default:OFF)\n",
      "D0530 07:03:27.448010742      13 config.cc:119]                        gRPC EXPERIMENT promise_based_server_call           OFF (default:OFF)\n",
      "D0530 07:03:27.448013003      13 config.cc:119]                        gRPC EXPERIMENT transport_supplies_client_latency   OFF (default:OFF)\n",
      "D0530 07:03:27.448015264      13 config.cc:119]                        gRPC EXPERIMENT event_engine_listener               OFF (default:OFF)\n",
      "I0530 07:03:27.448198976      13 ev_epoll1_linux.cc:122]               grpc epoll fd: 59\n",
      "D0530 07:03:27.448214046      13 ev_posix.cc:144]                      Using polling engine: epoll1\n",
      "D0530 07:03:27.448233533      13 dns_resolver_ares.cc:822]             Using ares dns resolver\n",
      "D0530 07:03:27.448624772      13 lb_policy_registry.cc:46]             registering LB policy factory for \"priority_experimental\"\n",
      "D0530 07:03:27.448636164      13 lb_policy_registry.cc:46]             registering LB policy factory for \"outlier_detection_experimental\"\n",
      "D0530 07:03:27.448639675      13 lb_policy_registry.cc:46]             registering LB policy factory for \"weighted_target_experimental\"\n",
      "D0530 07:03:27.448642610      13 lb_policy_registry.cc:46]             registering LB policy factory for \"pick_first\"\n",
      "D0530 07:03:27.448645727      13 lb_policy_registry.cc:46]             registering LB policy factory for \"round_robin\"\n",
      "D0530 07:03:27.448648598      13 lb_policy_registry.cc:46]             registering LB policy factory for \"weighted_round_robin_experimental\"\n",
      "D0530 07:03:27.448655294      13 lb_policy_registry.cc:46]             registering LB policy factory for \"ring_hash_experimental\"\n",
      "D0530 07:03:27.448671355      13 lb_policy_registry.cc:46]             registering LB policy factory for \"grpclb\"\n",
      "D0530 07:03:27.448697208      13 lb_policy_registry.cc:46]             registering LB policy factory for \"rls_experimental\"\n",
      "D0530 07:03:27.448710042      13 lb_policy_registry.cc:46]             registering LB policy factory for \"xds_cluster_manager_experimental\"\n",
      "D0530 07:03:27.448713480      13 lb_policy_registry.cc:46]             registering LB policy factory for \"xds_cluster_impl_experimental\"\n",
      "D0530 07:03:27.448716782      13 lb_policy_registry.cc:46]             registering LB policy factory for \"cds_experimental\"\n",
      "D0530 07:03:27.448723179      13 lb_policy_registry.cc:46]             registering LB policy factory for \"xds_cluster_resolver_experimental\"\n",
      "D0530 07:03:27.448726314      13 lb_policy_registry.cc:46]             registering LB policy factory for \"xds_override_host_experimental\"\n",
      "D0530 07:03:27.448730025      13 lb_policy_registry.cc:46]             registering LB policy factory for \"xds_wrr_locality_experimental\"\n",
      "D0530 07:03:27.448734722      13 certificate_provider_registry.cc:35]  registering certificate provider factory for \"file_watcher\"\n",
      "I0530 07:03:27.450856457      13 socket_utils_common_posix.cc:408]     Disabling AF_INET6 sockets because ::1 is not available.\n",
      "I0530 07:03:27.468579897     105 socket_utils_common_posix.cc:337]     TCP_USER_TIMEOUT is available. TCP_USER_TIMEOUT will be used thereafter\n",
      "E0530 07:03:27.476214753     105 oauth2_credentials.cc:236]            oauth_fetch: UNKNOWN:C-ares status is not ARES_SUCCESS qtype=A name=metadata.google.internal. is_balancer=0: Domain name not found {grpc_status:2, created_time:\"2023-05-30T07:03:27.476200601+00:00\"}\n"
     ]
    },
    {
     "name": "stdout",
     "output_type": "stream",
     "text": [
      "Collecting nltk\r\n"
     ]
    },
    {
     "name": "stdout",
     "output_type": "stream",
     "text": [
      "  Downloading nltk-3.8.1-py3-none-any.whl (1.5 MB)\r\n",
      "\u001b[?25l     \u001b[90m━━━━━━━━━━━━━━━━━━━━━━━━━━━━━━━━━━━━━━━━\u001b[0m \u001b[32m0.0/1.5 MB\u001b[0m \u001b[31m?\u001b[0m eta \u001b[36m-:--:--\u001b[0m"
     ]
    },
    {
     "name": "stdout",
     "output_type": "stream",
     "text": [
      "\r\n",
      "\u001b[2K     \u001b[91m━━━━━━━━━\u001b[0m\u001b[91m╸\u001b[0m\u001b[90m━━━━━━━━━━━━━━━━━━━━━━━━━━━━━━\u001b[0m \u001b[32m0.4/1.5 MB\u001b[0m \u001b[31m10.9 MB/s\u001b[0m eta \u001b[36m0:00:01\u001b[0m\r\n",
      "\u001b[2K     \u001b[91m━━━━━━━━━━━━━━━━━━━━━━━━━━━━━━━━━━━━━━━\u001b[0m\u001b[91m╸\u001b[0m \u001b[32m1.5/1.5 MB\u001b[0m \u001b[31m27.8 MB/s\u001b[0m eta \u001b[36m0:00:01\u001b[0m\r\n",
      "\u001b[2K     \u001b[90m━━━━━━━━━━━━━━━━━━━━━━━━━━━━━━━━━━━━━━━━\u001b[0m \u001b[32m1.5/1.5 MB\u001b[0m \u001b[31m19.7 MB/s\u001b[0m eta \u001b[36m0:00:00\u001b[0m\r\n",
      "\u001b[?25h"
     ]
    },
    {
     "name": "stdout",
     "output_type": "stream",
     "text": [
      "Requirement already satisfied: tqdm in /usr/local/lib/python3.8/site-packages (from nltk) (4.65.0)\r\n"
     ]
    },
    {
     "name": "stdout",
     "output_type": "stream",
     "text": [
      "Collecting regex>=2021.8.3\r\n",
      "  Downloading regex-2023.5.5-cp38-cp38-manylinux_2_17_x86_64.manylinux2014_x86_64.whl (771 kB)\r\n",
      "\u001b[?25l     \u001b[90m━━━━━━━━━━━━━━━━━━━━━━━━━━━━━━━━━━━━━━━━\u001b[0m \u001b[32m0.0/771.9 KB\u001b[0m \u001b[31m?\u001b[0m eta \u001b[36m-:--:--\u001b[0m"
     ]
    },
    {
     "name": "stdout",
     "output_type": "stream",
     "text": [
      "\r\n",
      "\u001b[2K     \u001b[90m━━━━━━━━━━━━━━━━━━━━━━━━━━━━━━━━━━━━━━\u001b[0m \u001b[32m771.9/771.9 KB\u001b[0m \u001b[31m33.8 MB/s\u001b[0m eta \u001b[36m0:00:00\u001b[0m\r\n",
      "\u001b[?25hRequirement already satisfied: click in /usr/local/lib/python3.8/site-packages (from nltk) (8.1.3)\r\n",
      "Requirement already satisfied: joblib in /usr/local/lib/python3.8/site-packages (from nltk) (1.2.0)\r\n"
     ]
    },
    {
     "name": "stdout",
     "output_type": "stream",
     "text": [
      "Installing collected packages: regex, nltk\r\n"
     ]
    },
    {
     "name": "stdout",
     "output_type": "stream",
     "text": [
      "Successfully installed nltk-3.8.1 regex-2023.5.5\r\n",
      "\u001b[33mWARNING: Running pip as the 'root' user can result in broken permissions and conflicting behaviour with the system package manager. It is recommended to use a virtual environment instead: https://pip.pypa.io/warnings/venv\u001b[0m\u001b[33m\r\n",
      "\u001b[0m"
     ]
    },
    {
     "name": "stdout",
     "output_type": "stream",
     "text": [
      "\u001b[33mWARNING: You are using pip version 22.0.4; however, version 23.1.2 is available.\r\n",
      "You should consider upgrading via the '/usr/local/bin/python -m pip install --upgrade pip' command.\u001b[0m\u001b[33m\r\n",
      "\u001b[0m"
     ]
    },
    {
     "name": "stdout",
     "output_type": "stream",
     "text": [
      "Collecting gensim\r\n"
     ]
    },
    {
     "name": "stdout",
     "output_type": "stream",
     "text": [
      "  Downloading gensim-4.3.1-cp38-cp38-manylinux_2_17_x86_64.manylinux2014_x86_64.whl (26.5 MB)\r\n",
      "\u001b[?25l     \u001b[90m━━━━━━━━━━━━━━━━━━━━━━━━━━━━━━━━━━━━━━━━\u001b[0m \u001b[32m0.0/26.5 MB\u001b[0m \u001b[31m?\u001b[0m eta \u001b[36m-:--:--\u001b[0m"
     ]
    },
    {
     "name": "stdout",
     "output_type": "stream",
     "text": [
      "\r\n",
      "\u001b[2K     \u001b[90m━━━━━━━━━━━━━━━━━━━━━━━━━━━━━━━━━━━━━━━━\u001b[0m \u001b[32m0.3/26.5 MB\u001b[0m \u001b[31m9.2 MB/s\u001b[0m eta \u001b[36m0:00:03\u001b[0m\r\n",
      "\u001b[2K     \u001b[91m━━━━\u001b[0m\u001b[90m╺\u001b[0m\u001b[90m━━━━━━━━━━━━━━━━━━━━━━━━━━━━━━━━━━━\u001b[0m \u001b[32m2.8/26.5 MB\u001b[0m \u001b[31m40.7 MB/s\u001b[0m eta \u001b[36m0:00:01\u001b[0m"
     ]
    },
    {
     "name": "stdout",
     "output_type": "stream",
     "text": [
      "\r\n",
      "\u001b[2K     \u001b[91m━━━━━━━━━━━\u001b[0m\u001b[91m╸\u001b[0m\u001b[90m━━━━━━━━━━━━━━━━━━━━━━━━━━━━\u001b[0m \u001b[32m7.9/26.5 MB\u001b[0m \u001b[31m75.3 MB/s\u001b[0m eta \u001b[36m0:00:01\u001b[0m"
     ]
    },
    {
     "name": "stdout",
     "output_type": "stream",
     "text": [
      "\r\n",
      "\u001b[2K     \u001b[91m━━━━━━━━━━━━━━━━━━━\u001b[0m\u001b[90m╺\u001b[0m\u001b[90m━━━━━━━━━━━━━━━━━━━\u001b[0m \u001b[32m13.2/26.5 MB\u001b[0m \u001b[31m149.9 MB/s\u001b[0m eta \u001b[36m0:00:01\u001b[0m\r\n",
      "\u001b[2K     \u001b[91m━━━━━━━━━━━━━━━━━━━━━━━━━━━\u001b[0m\u001b[90m╺\u001b[0m\u001b[90m━━━━━━━━━━━\u001b[0m \u001b[32m18.4/26.5 MB\u001b[0m \u001b[31m152.0 MB/s\u001b[0m eta \u001b[36m0:00:01\u001b[0m"
     ]
    },
    {
     "name": "stdout",
     "output_type": "stream",
     "text": [
      "\r\n",
      "\u001b[2K     \u001b[91m━━━━━━━━━━━━━━━━━━━━━━━━━━━━━━━━━━\u001b[0m\u001b[91m╸\u001b[0m\u001b[90m━━━━\u001b[0m \u001b[32m23.7/26.5 MB\u001b[0m \u001b[31m150.7 MB/s\u001b[0m eta \u001b[36m0:00:01\u001b[0m"
     ]
    },
    {
     "name": "stdout",
     "output_type": "stream",
     "text": [
      "\r\n",
      "\u001b[2K     \u001b[91m━━━━━━━━━━━━━━━━━━━━━━━━━━━━━━━━━━━━━━\u001b[0m\u001b[91m╸\u001b[0m \u001b[32m26.5/26.5 MB\u001b[0m \u001b[31m145.4 MB/s\u001b[0m eta \u001b[36m0:00:01\u001b[0m"
     ]
    },
    {
     "name": "stdout",
     "output_type": "stream",
     "text": [
      "\r\n",
      "\u001b[2K     \u001b[91m━━━━━━━━━━━━━━━━━━━━━━━━━━━━━━━━━━━━━━\u001b[0m\u001b[91m╸\u001b[0m \u001b[32m26.5/26.5 MB\u001b[0m \u001b[31m145.4 MB/s\u001b[0m eta \u001b[36m0:00:01\u001b[0m"
     ]
    },
    {
     "name": "stdout",
     "output_type": "stream",
     "text": [
      "\r\n",
      "\u001b[2K     \u001b[91m━━━━━━━━━━━━━━━━━━━━━━━━━━━━━━━━━━━━━━\u001b[0m\u001b[91m╸\u001b[0m \u001b[32m26.5/26.5 MB\u001b[0m \u001b[31m145.4 MB/s\u001b[0m eta \u001b[36m0:00:01\u001b[0m\r\n",
      "\u001b[2K     \u001b[90m━━━━━━━━━━━━━━━━━━━━━━━━━━━━━━━━━━━━━━━━\u001b[0m \u001b[32m26.5/26.5 MB\u001b[0m \u001b[31m47.3 MB/s\u001b[0m eta \u001b[36m0:00:00\u001b[0m\r\n",
      "\u001b[?25h"
     ]
    },
    {
     "name": "stdout",
     "output_type": "stream",
     "text": [
      "Requirement already satisfied: scipy>=1.7.0 in /usr/local/lib/python3.8/site-packages (from gensim) (1.10.1)\r\n"
     ]
    },
    {
     "name": "stdout",
     "output_type": "stream",
     "text": [
      "Collecting smart-open>=1.8.1\r\n"
     ]
    },
    {
     "name": "stdout",
     "output_type": "stream",
     "text": [
      "  Downloading smart_open-6.3.0-py3-none-any.whl (56 kB)\r\n",
      "\u001b[?25l     \u001b[90m━━━━━━━━━━━━━━━━━━━━━━━━━━━━━━━━━━━━━━━━\u001b[0m \u001b[32m0.0/56.8 KB\u001b[0m \u001b[31m?\u001b[0m eta \u001b[36m-:--:--\u001b[0m\r\n",
      "\u001b[2K     \u001b[90m━━━━━━━━━━━━━━━━━━━━━━━━━━━━━━━━━━━━━━━━\u001b[0m \u001b[32m56.8/56.8 KB\u001b[0m \u001b[31m4.4 MB/s\u001b[0m eta \u001b[36m0:00:00\u001b[0m\r\n",
      "\u001b[?25hRequirement already satisfied: numpy>=1.18.5 in /usr/local/lib/python3.8/site-packages (from gensim) (1.23.5)\r\n"
     ]
    },
    {
     "name": "stdout",
     "output_type": "stream",
     "text": [
      "Installing collected packages: smart-open, gensim\r\n"
     ]
    },
    {
     "name": "stdout",
     "output_type": "stream",
     "text": [
      "Successfully installed gensim-4.3.1 smart-open-6.3.0\r\n",
      "\u001b[33mWARNING: Running pip as the 'root' user can result in broken permissions and conflicting behaviour with the system package manager. It is recommended to use a virtual environment instead: https://pip.pypa.io/warnings/venv\u001b[0m\u001b[33m\r\n",
      "\u001b[0m\u001b[33mWARNING: You are using pip version 22.0.4; however, version 23.1.2 is available.\r\n",
      "You should consider upgrading via the '/usr/local/bin/python -m pip install --upgrade pip' command.\u001b[0m\u001b[33m\r\n",
      "\u001b[0m"
     ]
    },
    {
     "name": "stdout",
     "output_type": "stream",
     "text": [
      "Collecting ipywidgets\r\n"
     ]
    },
    {
     "name": "stdout",
     "output_type": "stream",
     "text": [
      "  Downloading ipywidgets-8.0.6-py3-none-any.whl (138 kB)\r\n",
      "\u001b[?25l     \u001b[90m━━━━━━━━━━━━━━━━━━━━━━━━━━━━━━━━━━━━━━━━\u001b[0m \u001b[32m0.0/138.3 KB\u001b[0m \u001b[31m?\u001b[0m eta \u001b[36m-:--:--\u001b[0m"
     ]
    },
    {
     "name": "stdout",
     "output_type": "stream",
     "text": [
      "\r\n",
      "\u001b[2K     \u001b[91m━━━━━━━━━━━━━━━━━━━━━━━━━━━━━━━━━━━━━\u001b[0m\u001b[91m╸\u001b[0m\u001b[90m━\u001b[0m \u001b[32m133.1/138.3 KB\u001b[0m \u001b[31m5.4 MB/s\u001b[0m eta \u001b[36m0:00:01\u001b[0m\r\n",
      "\u001b[2K     \u001b[90m━━━━━━━━━━━━━━━━━━━━━━━━━━━━━━━━━━━━━━━\u001b[0m \u001b[32m138.3/138.3 KB\u001b[0m \u001b[31m3.5 MB/s\u001b[0m eta \u001b[36m0:00:00\u001b[0m\r\n",
      "\u001b[?25h"
     ]
    },
    {
     "name": "stdout",
     "output_type": "stream",
     "text": [
      "Collecting jupyterlab-widgets~=3.0.7\r\n"
     ]
    },
    {
     "name": "stdout",
     "output_type": "stream",
     "text": [
      "  Downloading jupyterlab_widgets-3.0.7-py3-none-any.whl (198 kB)\r\n",
      "\u001b[?25l     \u001b[90m━━━━━━━━━━━━━━━━━━━━━━━━━━━━━━━━━━━━━━━━\u001b[0m \u001b[32m0.0/198.2 KB\u001b[0m \u001b[31m?\u001b[0m eta \u001b[36m-:--:--\u001b[0m\r\n",
      "\u001b[2K     \u001b[90m━━━━━━━━━━━━━━━━━━━━━━━━━━━━━━━━━━━━━━━\u001b[0m \u001b[32m198.2/198.2 KB\u001b[0m \u001b[31m9.7 MB/s\u001b[0m eta \u001b[36m0:00:00\u001b[0m\r\n",
      "\u001b[?25hRequirement already satisfied: ipython>=6.1.0 in /usr/local/lib/python3.8/site-packages (from ipywidgets) (8.12.0)\r\n"
     ]
    },
    {
     "name": "stdout",
     "output_type": "stream",
     "text": [
      "Collecting widgetsnbextension~=4.0.7\r\n"
     ]
    },
    {
     "name": "stdout",
     "output_type": "stream",
     "text": [
      "  Downloading widgetsnbextension-4.0.7-py3-none-any.whl (2.1 MB)\r\n",
      "\u001b[?25l     \u001b[90m━━━━━━━━━━━━━━━━━━━━━━━━━━━━━━━━━━━━━━━━\u001b[0m \u001b[32m0.0/2.1 MB\u001b[0m \u001b[31m?\u001b[0m eta \u001b[36m-:--:--\u001b[0m\r\n",
      "\u001b[2K     \u001b[91m━━━━━━━━━━━━━━━━━━━━━━━━━━━━━━━━━━━━━━━\u001b[0m\u001b[91m╸\u001b[0m \u001b[32m2.1/2.1 MB\u001b[0m \u001b[31m82.2 MB/s\u001b[0m eta \u001b[36m0:00:01\u001b[0m"
     ]
    },
    {
     "name": "stdout",
     "output_type": "stream",
     "text": [
      "\r\n",
      "\u001b[2K     \u001b[90m━━━━━━━━━━━━━━━━━━━━━━━━━━━━━━━━━━━━━━━━\u001b[0m \u001b[32m2.1/2.1 MB\u001b[0m \u001b[31m43.8 MB/s\u001b[0m eta \u001b[36m0:00:00\u001b[0m\r\n",
      "\u001b[?25hRequirement already satisfied: traitlets>=4.3.1 in /usr/local/lib/python3.8/site-packages (from ipywidgets) (5.9.0)\r\n",
      "Requirement already satisfied: ipykernel>=4.5.1 in /usr/local/lib/python3.8/site-packages (from ipywidgets) (6.22.0)\r\n"
     ]
    },
    {
     "name": "stdout",
     "output_type": "stream",
     "text": [
      "Requirement already satisfied: comm>=0.1.1 in /usr/local/lib/python3.8/site-packages (from ipykernel>=4.5.1->ipywidgets) (0.1.3)\r\n",
      "Requirement already satisfied: debugpy>=1.6.5 in /usr/local/lib/python3.8/site-packages (from ipykernel>=4.5.1->ipywidgets) (1.6.7)\r\n",
      "Requirement already satisfied: matplotlib-inline>=0.1 in /usr/local/lib/python3.8/site-packages (from ipykernel>=4.5.1->ipywidgets) (0.1.6)\r\n",
      "Requirement already satisfied: nest-asyncio in /usr/local/lib/python3.8/site-packages (from ipykernel>=4.5.1->ipywidgets) (1.5.6)\r\n",
      "Requirement already satisfied: packaging in /usr/local/lib/python3.8/site-packages (from ipykernel>=4.5.1->ipywidgets) (23.1)\r\n",
      "Requirement already satisfied: pyzmq>=20 in /usr/local/lib/python3.8/site-packages (from ipykernel>=4.5.1->ipywidgets) (25.0.2)\r\n",
      "Requirement already satisfied: jupyter-core!=5.0.*,>=4.12 in /usr/local/lib/python3.8/site-packages (from ipykernel>=4.5.1->ipywidgets) (5.3.0)\r\n",
      "Requirement already satisfied: psutil in /usr/local/lib/python3.8/site-packages (from ipykernel>=4.5.1->ipywidgets) (5.9.5)\r\n",
      "Requirement already satisfied: tornado>=6.1 in /usr/local/lib/python3.8/site-packages (from ipykernel>=4.5.1->ipywidgets) (6.3)\r\n",
      "Requirement already satisfied: jupyter-client>=6.1.12 in /usr/local/lib/python3.8/site-packages (from ipykernel>=4.5.1->ipywidgets) (8.2.0)\r\n"
     ]
    },
    {
     "name": "stdout",
     "output_type": "stream",
     "text": [
      "Requirement already satisfied: decorator in /usr/local/lib/python3.8/site-packages (from ipython>=6.1.0->ipywidgets) (5.1.1)\r\n",
      "Requirement already satisfied: stack-data in /usr/local/lib/python3.8/site-packages (from ipython>=6.1.0->ipywidgets) (0.6.2)\r\n",
      "Requirement already satisfied: prompt-toolkit!=3.0.37,<3.1.0,>=3.0.30 in /usr/local/lib/python3.8/site-packages (from ipython>=6.1.0->ipywidgets) (3.0.38)\r\n",
      "Requirement already satisfied: pygments>=2.4.0 in /usr/local/lib/python3.8/site-packages (from ipython>=6.1.0->ipywidgets) (2.15.1)\r\n",
      "Requirement already satisfied: pickleshare in /usr/local/lib/python3.8/site-packages (from ipython>=6.1.0->ipywidgets) (0.7.5)\r\n",
      "Requirement already satisfied: jedi>=0.16 in /usr/local/lib/python3.8/site-packages (from ipython>=6.1.0->ipywidgets) (0.18.2)\r\n",
      "Requirement already satisfied: pexpect>4.3 in /usr/local/lib/python3.8/site-packages (from ipython>=6.1.0->ipywidgets) (4.8.0)\r\n",
      "Requirement already satisfied: typing-extensions in /usr/local/lib/python3.8/site-packages (from ipython>=6.1.0->ipywidgets) (4.5.0)\r\n",
      "Requirement already satisfied: backcall in /usr/local/lib/python3.8/site-packages (from ipython>=6.1.0->ipywidgets) (0.2.0)\r\n"
     ]
    },
    {
     "name": "stdout",
     "output_type": "stream",
     "text": [
      "Requirement already satisfied: parso<0.9.0,>=0.8.0 in /usr/local/lib/python3.8/site-packages (from jedi>=0.16->ipython>=6.1.0->ipywidgets) (0.8.3)\r\n"
     ]
    },
    {
     "name": "stdout",
     "output_type": "stream",
     "text": [
      "Requirement already satisfied: importlib-metadata>=4.8.3 in /usr/local/lib/python3.8/site-packages (from jupyter-client>=6.1.12->ipykernel>=4.5.1->ipywidgets) (6.5.0)\r\n",
      "Requirement already satisfied: python-dateutil>=2.8.2 in /usr/local/lib/python3.8/site-packages (from jupyter-client>=6.1.12->ipykernel>=4.5.1->ipywidgets) (2.8.2)\r\n"
     ]
    },
    {
     "name": "stdout",
     "output_type": "stream",
     "text": [
      "Requirement already satisfied: platformdirs>=2.5 in /usr/local/lib/python3.8/site-packages (from jupyter-core!=5.0.*,>=4.12->ipykernel>=4.5.1->ipywidgets) (3.2.0)\r\n",
      "Requirement already satisfied: ptyprocess>=0.5 in /usr/local/lib/python3.8/site-packages (from pexpect>4.3->ipython>=6.1.0->ipywidgets) (0.7.0)\r\n",
      "Requirement already satisfied: wcwidth in /usr/local/lib/python3.8/site-packages (from prompt-toolkit!=3.0.37,<3.1.0,>=3.0.30->ipython>=6.1.0->ipywidgets) (0.2.6)\r\n"
     ]
    },
    {
     "name": "stdout",
     "output_type": "stream",
     "text": [
      "Requirement already satisfied: asttokens>=2.1.0 in /usr/local/lib/python3.8/site-packages (from stack-data->ipython>=6.1.0->ipywidgets) (2.2.1)\r\n",
      "Requirement already satisfied: executing>=1.2.0 in /usr/local/lib/python3.8/site-packages (from stack-data->ipython>=6.1.0->ipywidgets) (1.2.0)\r\n",
      "Requirement already satisfied: pure-eval in /usr/local/lib/python3.8/site-packages (from stack-data->ipython>=6.1.0->ipywidgets) (0.2.2)\r\n",
      "Requirement already satisfied: six in /usr/local/lib/python3.8/site-packages (from asttokens>=2.1.0->stack-data->ipython>=6.1.0->ipywidgets) (1.16.0)\r\n"
     ]
    },
    {
     "name": "stdout",
     "output_type": "stream",
     "text": [
      "Requirement already satisfied: zipp>=0.5 in /usr/local/lib/python3.8/site-packages (from importlib-metadata>=4.8.3->jupyter-client>=6.1.12->ipykernel>=4.5.1->ipywidgets) (3.15.0)\r\n"
     ]
    },
    {
     "name": "stdout",
     "output_type": "stream",
     "text": [
      "Installing collected packages: widgetsnbextension, jupyterlab-widgets, ipywidgets\r\n"
     ]
    },
    {
     "name": "stdout",
     "output_type": "stream",
     "text": [
      "Successfully installed ipywidgets-8.0.6 jupyterlab-widgets-3.0.7 widgetsnbextension-4.0.7\r\n",
      "\u001b[33mWARNING: Running pip as the 'root' user can result in broken permissions and conflicting behaviour with the system package manager. It is recommended to use a virtual environment instead: https://pip.pypa.io/warnings/venv\u001b[0m\u001b[33m\r\n",
      "\u001b[0m\u001b[33mWARNING: You are using pip version 22.0.4; however, version 23.1.2 is available.\r\n",
      "You should consider upgrading via the '/usr/local/bin/python -m pip install --upgrade pip' command.\u001b[0m\u001b[33m\r\n",
      "\u001b[0m"
     ]
    },
    {
     "name": "stdout",
     "output_type": "stream",
     "text": [
      "Collecting seaborn\r\n"
     ]
    },
    {
     "name": "stdout",
     "output_type": "stream",
     "text": [
      "  Downloading seaborn-0.12.2-py3-none-any.whl (293 kB)\r\n",
      "\u001b[?25l     \u001b[90m━━━━━━━━━━━━━━━━━━━━━━━━━━━━━━━━━━━━━━━━\u001b[0m \u001b[32m0.0/293.3 KB\u001b[0m \u001b[31m?\u001b[0m eta \u001b[36m-:--:--\u001b[0m"
     ]
    },
    {
     "name": "stdout",
     "output_type": "stream",
     "text": [
      "\r\n",
      "\u001b[2K     \u001b[91m━━━━━━━━━━━━━━━━━━━━━━━━━━━━━━━━━━━━━\u001b[0m\u001b[90m╺\u001b[0m \u001b[32m286.7/293.3 KB\u001b[0m \u001b[31m10.0 MB/s\u001b[0m eta \u001b[36m0:00:01\u001b[0m\r\n",
      "\u001b[2K     \u001b[90m━━━━━━━━━━━━━━━━━━━━━━━━━━━━━━━━━━━━━━━\u001b[0m \u001b[32m293.3/293.3 KB\u001b[0m \u001b[31m7.2 MB/s\u001b[0m eta \u001b[36m0:00:00\u001b[0m\r\n",
      "\u001b[?25h"
     ]
    },
    {
     "name": "stdout",
     "output_type": "stream",
     "text": [
      "Requirement already satisfied: numpy!=1.24.0,>=1.17 in /usr/local/lib/python3.8/site-packages (from seaborn) (1.23.5)\r\n",
      "Requirement already satisfied: pandas>=0.25 in /usr/local/lib/python3.8/site-packages (from seaborn) (2.0.0)\r\n",
      "Requirement already satisfied: matplotlib!=3.6.1,>=3.1 in /usr/local/lib/python3.8/site-packages (from seaborn) (3.7.1)\r\n",
      "Requirement already satisfied: pyparsing>=2.3.1 in /usr/local/lib/python3.8/site-packages (from matplotlib!=3.6.1,>=3.1->seaborn) (3.0.9)\r\n",
      "Requirement already satisfied: kiwisolver>=1.0.1 in /usr/local/lib/python3.8/site-packages (from matplotlib!=3.6.1,>=3.1->seaborn) (1.4.4)\r\n",
      "Requirement already satisfied: cycler>=0.10 in /usr/local/lib/python3.8/site-packages (from matplotlib!=3.6.1,>=3.1->seaborn) (0.11.0)\r\n",
      "Requirement already satisfied: fonttools>=4.22.0 in /usr/local/lib/python3.8/site-packages (from matplotlib!=3.6.1,>=3.1->seaborn) (4.39.3)\r\n",
      "Requirement already satisfied: importlib-resources>=3.2.0 in /usr/local/lib/python3.8/site-packages (from matplotlib!=3.6.1,>=3.1->seaborn) (5.12.0)\r\n",
      "Requirement already satisfied: python-dateutil>=2.7 in /usr/local/lib/python3.8/site-packages (from matplotlib!=3.6.1,>=3.1->seaborn) (2.8.2)\r\n",
      "Requirement already satisfied: packaging>=20.0 in /usr/local/lib/python3.8/site-packages (from matplotlib!=3.6.1,>=3.1->seaborn) (23.1)\r\n",
      "Requirement already satisfied: pillow>=6.2.0 in /usr/local/lib/python3.8/site-packages (from matplotlib!=3.6.1,>=3.1->seaborn) (9.5.0)\r\n",
      "Requirement already satisfied: contourpy>=1.0.1 in /usr/local/lib/python3.8/site-packages (from matplotlib!=3.6.1,>=3.1->seaborn) (1.0.7)\r\n"
     ]
    },
    {
     "name": "stdout",
     "output_type": "stream",
     "text": [
      "Requirement already satisfied: pytz>=2020.1 in /usr/local/lib/python3.8/site-packages (from pandas>=0.25->seaborn) (2023.3)\r\n",
      "Requirement already satisfied: tzdata>=2022.1 in /usr/local/lib/python3.8/site-packages (from pandas>=0.25->seaborn) (2023.3)\r\n"
     ]
    },
    {
     "name": "stdout",
     "output_type": "stream",
     "text": [
      "Requirement already satisfied: zipp>=3.1.0 in /usr/local/lib/python3.8/site-packages (from importlib-resources>=3.2.0->matplotlib!=3.6.1,>=3.1->seaborn) (3.15.0)\r\n"
     ]
    },
    {
     "name": "stdout",
     "output_type": "stream",
     "text": [
      "Requirement already satisfied: six>=1.5 in /usr/local/lib/python3.8/site-packages (from python-dateutil>=2.7->matplotlib!=3.6.1,>=3.1->seaborn) (1.16.0)\r\n"
     ]
    },
    {
     "name": "stdout",
     "output_type": "stream",
     "text": [
      "Installing collected packages: seaborn\r\n"
     ]
    },
    {
     "name": "stdout",
     "output_type": "stream",
     "text": [
      "Successfully installed seaborn-0.12.2\r\n",
      "\u001b[33mWARNING: Running pip as the 'root' user can result in broken permissions and conflicting behaviour with the system package manager. It is recommended to use a virtual environment instead: https://pip.pypa.io/warnings/venv\u001b[0m\u001b[33m\r\n",
      "\u001b[0m\u001b[33mWARNING: You are using pip version 22.0.4; however, version 23.1.2 is available.\r\n",
      "You should consider upgrading via the '/usr/local/bin/python -m pip install --upgrade pip' command.\u001b[0m\u001b[33m\r\n",
      "\u001b[0m"
     ]
    },
    {
     "name": "stdout",
     "output_type": "stream",
     "text": [
      "Collecting sentence-transformers\r\n"
     ]
    },
    {
     "name": "stdout",
     "output_type": "stream",
     "text": [
      "  Downloading sentence-transformers-2.2.2.tar.gz (85 kB)\r\n",
      "\u001b[?25l"
     ]
    },
    {
     "name": "stdout",
     "output_type": "stream",
     "text": [
      "     \u001b[90m━━━━━━━━━━━━━━━━━━━━━━━━━━━━━━━━━━━━━━━━\u001b[0m \u001b[32m0.0/86.0 KB\u001b[0m \u001b[31m?\u001b[0m eta \u001b[36m-:--:--\u001b[0m\r\n",
      "\u001b[2K     \u001b[90m━━━━━━━━━━━━━━━━━━━━━━━━━━━━━━━━━━━━━━━━\u001b[0m \u001b[32m86.0/86.0 KB\u001b[0m \u001b[31m3.7 MB/s\u001b[0m eta \u001b[36m0:00:00\u001b[0m\r\n",
      "\u001b[?25h"
     ]
    },
    {
     "name": "stdout",
     "output_type": "stream",
     "text": [
      "  Preparing metadata (setup.py) ... \u001b[?25l-"
     ]
    },
    {
     "name": "stdout",
     "output_type": "stream",
     "text": [
      "\b \bdone\r\n"
     ]
    },
    {
     "name": "stdout",
     "output_type": "stream",
     "text": [
      "\u001b[?25hCollecting transformers<5.0.0,>=4.6.0\r\n"
     ]
    },
    {
     "name": "stdout",
     "output_type": "stream",
     "text": [
      "  Downloading transformers-4.29.2-py3-none-any.whl (7.1 MB)\r\n",
      "\u001b[?25l     \u001b[90m━━━━━━━━━━━━━━━━━━━━━━━━━━━━━━━━━━━━━━━━\u001b[0m \u001b[32m0.0/7.1 MB\u001b[0m \u001b[31m?\u001b[0m eta \u001b[36m-:--:--\u001b[0m"
     ]
    },
    {
     "name": "stdout",
     "output_type": "stream",
     "text": [
      "\r\n",
      "\u001b[2K     \u001b[91m━━━━━━━━━\u001b[0m\u001b[91m╸\u001b[0m\u001b[90m━━━━━━━━━━━━━━━━━━━━━━━━━━━━━━\u001b[0m \u001b[32m1.8/7.1 MB\u001b[0m \u001b[31m52.7 MB/s\u001b[0m eta \u001b[36m0:00:01\u001b[0m\r\n",
      "\u001b[2K     \u001b[91m━━━━━━━━━━━━━━━━━━━━━━━━━━━━━━━━━━━━\u001b[0m\u001b[91m╸\u001b[0m\u001b[90m━━━\u001b[0m \u001b[32m6.5/7.1 MB\u001b[0m \u001b[31m93.6 MB/s\u001b[0m eta \u001b[36m0:00:01\u001b[0m"
     ]
    },
    {
     "name": "stdout",
     "output_type": "stream",
     "text": [
      "\r\n",
      "\u001b[2K     \u001b[91m━━━━━━━━━━━━━━━━━━━━━━━━━━━━━━━━━━━━━━━\u001b[0m\u001b[91m╸\u001b[0m \u001b[32m7.1/7.1 MB\u001b[0m \u001b[31m93.0 MB/s\u001b[0m eta \u001b[36m0:00:01\u001b[0m\r\n",
      "\u001b[2K     \u001b[90m━━━━━━━━━━━━━━━━━━━━━━━━━━━━━━━━━━━━━━━━\u001b[0m \u001b[32m7.1/7.1 MB\u001b[0m \u001b[31m55.6 MB/s\u001b[0m eta \u001b[36m0:00:00\u001b[0m\r\n",
      "\u001b[?25h"
     ]
    },
    {
     "name": "stdout",
     "output_type": "stream",
     "text": [
      "Requirement already satisfied: tqdm in /usr/local/lib/python3.8/site-packages (from sentence-transformers) (4.65.0)\r\n",
      "Requirement already satisfied: torch>=1.6.0 in /usr/local/lib/python3.8/site-packages (from sentence-transformers) (2.0.0)\r\n",
      "Requirement already satisfied: torchvision in /usr/local/lib/python3.8/site-packages (from sentence-transformers) (0.15.1)\r\n",
      "Requirement already satisfied: numpy in /usr/local/lib/python3.8/site-packages (from sentence-transformers) (1.23.5)\r\n",
      "Requirement already satisfied: scikit-learn in /usr/local/lib/python3.8/site-packages (from sentence-transformers) (1.2.2)\r\n",
      "Requirement already satisfied: scipy in /usr/local/lib/python3.8/site-packages (from sentence-transformers) (1.10.1)\r\n",
      "Requirement already satisfied: nltk in /usr/local/lib/python3.8/site-packages (from sentence-transformers) (3.8.1)\r\n"
     ]
    },
    {
     "name": "stdout",
     "output_type": "stream",
     "text": [
      "Collecting sentencepiece\r\n",
      "  Downloading sentencepiece-0.1.99-cp38-cp38-manylinux_2_17_x86_64.manylinux2014_x86_64.whl (1.3 MB)\r\n",
      "\u001b[?25l"
     ]
    },
    {
     "name": "stdout",
     "output_type": "stream",
     "text": [
      "     \u001b[90m━━━━━━━━━━━━━━━━━━━━━━━━━━━━━━━━━━━━━━━━\u001b[0m \u001b[32m0.0/1.3 MB\u001b[0m \u001b[31m?\u001b[0m eta \u001b[36m-:--:--\u001b[0m\r\n",
      "\u001b[2K     \u001b[90m━━━━━━━━━━━━━━━━━━━━━━━━━━━━━━━━━━━━━━━━\u001b[0m \u001b[32m1.3/1.3 MB\u001b[0m \u001b[31m46.1 MB/s\u001b[0m eta \u001b[36m0:00:00\u001b[0m\r\n",
      "\u001b[?25h"
     ]
    },
    {
     "name": "stdout",
     "output_type": "stream",
     "text": [
      "Collecting huggingface-hub>=0.4.0\r\n",
      "  Downloading huggingface_hub-0.14.1-py3-none-any.whl (224 kB)\r\n",
      "\u001b[?25l"
     ]
    },
    {
     "name": "stdout",
     "output_type": "stream",
     "text": [
      "     \u001b[90m━━━━━━━━━━━━━━━━━━━━━━━━━━━━━━━━━━━━━━━━\u001b[0m \u001b[32m0.0/224.5 KB\u001b[0m \u001b[31m?\u001b[0m eta \u001b[36m-:--:--\u001b[0m\r\n",
      "\u001b[2K     \u001b[90m━━━━━━━━━━━━━━━━━━━━━━━━━━━━━━━━━━━━━━\u001b[0m \u001b[32m224.5/224.5 KB\u001b[0m \u001b[31m18.5 MB/s\u001b[0m eta \u001b[36m0:00:00\u001b[0m\r\n",
      "\u001b[?25h"
     ]
    },
    {
     "name": "stdout",
     "output_type": "stream",
     "text": [
      "Requirement already satisfied: packaging>=20.9 in /usr/local/lib/python3.8/site-packages (from huggingface-hub>=0.4.0->sentence-transformers) (23.1)\r\n",
      "Requirement already satisfied: requests in /usr/local/lib/python3.8/site-packages (from huggingface-hub>=0.4.0->sentence-transformers) (2.28.2)\r\n",
      "Requirement already satisfied: filelock in /usr/local/lib/python3.8/site-packages (from huggingface-hub>=0.4.0->sentence-transformers) (3.12.0)\r\n",
      "Requirement already satisfied: typing-extensions>=3.7.4.3 in /usr/local/lib/python3.8/site-packages (from huggingface-hub>=0.4.0->sentence-transformers) (4.5.0)\r\n",
      "Requirement already satisfied: pyyaml>=5.1 in /usr/local/lib/python3.8/site-packages (from huggingface-hub>=0.4.0->sentence-transformers) (6.0)\r\n"
     ]
    },
    {
     "name": "stdout",
     "output_type": "stream",
     "text": [
      "Collecting fsspec\r\n"
     ]
    },
    {
     "name": "stdout",
     "output_type": "stream",
     "text": [
      "  Downloading fsspec-2023.5.0-py3-none-any.whl (160 kB)\r\n",
      "\u001b[?25l     \u001b[90m━━━━━━━━━━━━━━━━━━━━━━━━━━━━━━━━━━━━━━━━\u001b[0m \u001b[32m0.0/160.1 KB\u001b[0m \u001b[31m?\u001b[0m eta \u001b[36m-:--:--\u001b[0m\r\n",
      "\u001b[2K     \u001b[90m━━━━━━━━━━━━━━━━━━━━━━━━━━━━━━━━━━━━━━\u001b[0m \u001b[32m160.1/160.1 KB\u001b[0m \u001b[31m11.6 MB/s\u001b[0m eta \u001b[36m0:00:00\u001b[0m\r\n",
      "\u001b[?25h"
     ]
    },
    {
     "name": "stdout",
     "output_type": "stream",
     "text": [
      "Requirement already satisfied: nvidia-nccl-cu11==2.14.3 in /usr/local/lib/python3.8/site-packages (from torch>=1.6.0->sentence-transformers) (2.14.3)\r\n",
      "Requirement already satisfied: nvidia-curand-cu11==10.2.10.91 in /usr/local/lib/python3.8/site-packages (from torch>=1.6.0->sentence-transformers) (10.2.10.91)\r\n",
      "Requirement already satisfied: nvidia-cusparse-cu11==11.7.4.91 in /usr/local/lib/python3.8/site-packages (from torch>=1.6.0->sentence-transformers) (11.7.4.91)\r\n",
      "Requirement already satisfied: nvidia-cuda-runtime-cu11==11.7.99 in /usr/local/lib/python3.8/site-packages (from torch>=1.6.0->sentence-transformers) (11.7.99)\r\n",
      "Requirement already satisfied: nvidia-cublas-cu11==11.10.3.66 in /usr/local/lib/python3.8/site-packages (from torch>=1.6.0->sentence-transformers) (11.10.3.66)\r\n",
      "Requirement already satisfied: nvidia-cuda-nvrtc-cu11==11.7.99 in /usr/local/lib/python3.8/site-packages (from torch>=1.6.0->sentence-transformers) (11.7.99)\r\n",
      "Requirement already satisfied: nvidia-cusolver-cu11==11.4.0.1 in /usr/local/lib/python3.8/site-packages (from torch>=1.6.0->sentence-transformers) (11.4.0.1)\r\n",
      "Requirement already satisfied: triton==2.0.0 in /usr/local/lib/python3.8/site-packages (from torch>=1.6.0->sentence-transformers) (2.0.0)\r\n",
      "Requirement already satisfied: sympy in /usr/local/lib/python3.8/site-packages (from torch>=1.6.0->sentence-transformers) (1.11.1)\r\n"
     ]
    },
    {
     "name": "stdout",
     "output_type": "stream",
     "text": [
      "Requirement already satisfied: nvidia-cuda-cupti-cu11==11.7.101 in /usr/local/lib/python3.8/site-packages (from torch>=1.6.0->sentence-transformers) (11.7.101)\r\n",
      "Requirement already satisfied: nvidia-cudnn-cu11==8.5.0.96 in /usr/local/lib/python3.8/site-packages (from torch>=1.6.0->sentence-transformers) (8.5.0.96)\r\n",
      "Requirement already satisfied: nvidia-nvtx-cu11==11.7.91 in /usr/local/lib/python3.8/site-packages (from torch>=1.6.0->sentence-transformers) (11.7.91)\r\n",
      "Requirement already satisfied: networkx in /usr/local/lib/python3.8/site-packages (from torch>=1.6.0->sentence-transformers) (3.1)\r\n",
      "Requirement already satisfied: jinja2 in /usr/local/lib/python3.8/site-packages (from torch>=1.6.0->sentence-transformers) (3.1.2)\r\n",
      "Requirement already satisfied: nvidia-cufft-cu11==10.9.0.58 in /usr/local/lib/python3.8/site-packages (from torch>=1.6.0->sentence-transformers) (10.9.0.58)\r\n",
      "Requirement already satisfied: wheel in /usr/local/lib/python3.8/site-packages (from nvidia-cublas-cu11==11.10.3.66->torch>=1.6.0->sentence-transformers) (0.40.0)\r\n",
      "Requirement already satisfied: setuptools in /usr/local/lib/python3.8/site-packages (from nvidia-cublas-cu11==11.10.3.66->torch>=1.6.0->sentence-transformers) (57.5.0)\r\n"
     ]
    },
    {
     "name": "stdout",
     "output_type": "stream",
     "text": [
      "Requirement already satisfied: lit in /usr/local/lib/python3.8/site-packages (from triton==2.0.0->torch>=1.6.0->sentence-transformers) (16.0.1)\r\n",
      "Requirement already satisfied: cmake in /usr/local/lib/python3.8/site-packages (from triton==2.0.0->torch>=1.6.0->sentence-transformers) (3.26.3)\r\n"
     ]
    },
    {
     "name": "stdout",
     "output_type": "stream",
     "text": [
      "Requirement already satisfied: regex!=2019.12.17 in /usr/local/lib/python3.8/site-packages (from transformers<5.0.0,>=4.6.0->sentence-transformers) (2023.5.5)\r\n"
     ]
    },
    {
     "name": "stdout",
     "output_type": "stream",
     "text": [
      "Collecting tokenizers!=0.11.3,<0.14,>=0.11.1\r\n",
      "  Downloading tokenizers-0.13.3-cp38-cp38-manylinux_2_17_x86_64.manylinux2014_x86_64.whl (7.8 MB)\r\n",
      "\u001b[?25l     \u001b[90m━━━━━━━━━━━━━━━━━━━━━━━━━━━━━━━━━━━━━━━━\u001b[0m \u001b[32m0.0/7.8 MB\u001b[0m \u001b[31m?\u001b[0m eta \u001b[36m-:--:--\u001b[0m"
     ]
    },
    {
     "name": "stdout",
     "output_type": "stream",
     "text": [
      "\r\n",
      "\u001b[2K     \u001b[91m━━━━━━━━━━━━━━━━━━━━━━━━━━\u001b[0m\u001b[91m╸\u001b[0m\u001b[90m━━━━━━━━━━━━━\u001b[0m \u001b[32m5.2/7.8 MB\u001b[0m \u001b[31m156.3 MB/s\u001b[0m eta \u001b[36m0:00:01\u001b[0m"
     ]
    },
    {
     "name": "stdout",
     "output_type": "stream",
     "text": [
      "\r\n",
      "\u001b[2K     \u001b[91m━━━━━━━━━━━━━━━━━━━━━━━━━━━━━━━━━━━━━━━\u001b[0m\u001b[91m╸\u001b[0m \u001b[32m7.8/7.8 MB\u001b[0m \u001b[31m153.5 MB/s\u001b[0m eta \u001b[36m0:00:01\u001b[0m\r\n",
      "\u001b[2K     \u001b[90m━━━━━━━━━━━━━━━━━━━━━━━━━━━━━━━━━━━━━━━━\u001b[0m \u001b[32m7.8/7.8 MB\u001b[0m \u001b[31m78.5 MB/s\u001b[0m eta \u001b[36m0:00:00\u001b[0m\r\n",
      "\u001b[?25h"
     ]
    },
    {
     "name": "stdout",
     "output_type": "stream",
     "text": [
      "Requirement already satisfied: joblib in /usr/local/lib/python3.8/site-packages (from nltk->sentence-transformers) (1.2.0)\r\n",
      "Requirement already satisfied: click in /usr/local/lib/python3.8/site-packages (from nltk->sentence-transformers) (8.1.3)\r\n"
     ]
    },
    {
     "name": "stdout",
     "output_type": "stream",
     "text": [
      "Requirement already satisfied: threadpoolctl>=2.0.0 in /usr/local/lib/python3.8/site-packages (from scikit-learn->sentence-transformers) (3.1.0)\r\n"
     ]
    },
    {
     "name": "stdout",
     "output_type": "stream",
     "text": [
      "Requirement already satisfied: pillow!=8.3.*,>=5.3.0 in /usr/local/lib/python3.8/site-packages (from torchvision->sentence-transformers) (9.5.0)\r\n"
     ]
    },
    {
     "name": "stdout",
     "output_type": "stream",
     "text": [
      "Requirement already satisfied: MarkupSafe>=2.0 in /usr/local/lib/python3.8/site-packages (from jinja2->torch>=1.6.0->sentence-transformers) (2.1.2)\r\n"
     ]
    },
    {
     "name": "stdout",
     "output_type": "stream",
     "text": [
      "Requirement already satisfied: charset-normalizer<4,>=2 in /usr/local/lib/python3.8/site-packages (from requests->huggingface-hub>=0.4.0->sentence-transformers) (3.1.0)\r\n",
      "Requirement already satisfied: certifi>=2017.4.17 in /usr/local/lib/python3.8/site-packages (from requests->huggingface-hub>=0.4.0->sentence-transformers) (2022.12.7)\r\n",
      "Requirement already satisfied: urllib3<1.27,>=1.21.1 in /usr/local/lib/python3.8/site-packages (from requests->huggingface-hub>=0.4.0->sentence-transformers) (1.26.15)\r\n",
      "Requirement already satisfied: idna<4,>=2.5 in /usr/local/lib/python3.8/site-packages (from requests->huggingface-hub>=0.4.0->sentence-transformers) (3.4)\r\n",
      "Requirement already satisfied: mpmath>=0.19 in /usr/local/lib/python3.8/site-packages (from sympy->torch>=1.6.0->sentence-transformers) (1.3.0)\r\n"
     ]
    },
    {
     "name": "stdout",
     "output_type": "stream",
     "text": [
      "Building wheels for collected packages: sentence-transformers\r\n"
     ]
    },
    {
     "name": "stdout",
     "output_type": "stream",
     "text": [
      "  Building wheel for sentence-transformers (setup.py) ... \u001b[?25l-"
     ]
    },
    {
     "name": "stdout",
     "output_type": "stream",
     "text": [
      "\b \b\\"
     ]
    },
    {
     "name": "stdout",
     "output_type": "stream",
     "text": [
      "\b \bdone\r\n",
      "\u001b[?25h  Created wheel for sentence-transformers: filename=sentence_transformers-2.2.2-py3-none-any.whl size=125938 sha256=2a45e7981b0c11f2f4e880ef2510f229db7e9ea7d42375d31fcc5d3be851fde5\r\n",
      "  Stored in directory: /root/.cache/pip/wheels/5e/6f/8c/d88aec621f3f542d26fac0342bef5e693335d125f4e54aeffe\r\n"
     ]
    },
    {
     "name": "stdout",
     "output_type": "stream",
     "text": [
      "Successfully built sentence-transformers\r\n"
     ]
    },
    {
     "name": "stdout",
     "output_type": "stream",
     "text": [
      "Installing collected packages: tokenizers, sentencepiece, fsspec, huggingface-hub, transformers, sentence-transformers\r\n"
     ]
    },
    {
     "name": "stdout",
     "output_type": "stream",
     "text": [
      "Successfully installed fsspec-2023.5.0 huggingface-hub-0.14.1 sentence-transformers-2.2.2 sentencepiece-0.1.99 tokenizers-0.13.3 transformers-4.29.2\r\n",
      "\u001b[33mWARNING: Running pip as the 'root' user can result in broken permissions and conflicting behaviour with the system package manager. It is recommended to use a virtual environment instead: https://pip.pypa.io/warnings/venv\u001b[0m\u001b[33m\r\n",
      "\u001b[0m\u001b[33mWARNING: You are using pip version 22.0.4; however, version 23.1.2 is available.\r\n",
      "You should consider upgrading via the '/usr/local/bin/python -m pip install --upgrade pip' command.\u001b[0m\u001b[33m\r\n",
      "\u001b[0m"
     ]
    }
   ],
   "source": [
    "import tensorflow as tf\n",
    "import pandas as pd\n",
    "import ast\n",
    "!pip install -U nltk\n",
    "from nltk.tokenize import sent_tokenize, word_tokenize\n",
    "!pip install -U gensim\n",
    "import gensim\n",
    "from gensim.models import Word2Vec\n",
    "import numpy as np\n",
    "from sklearn.cluster import SpectralClustering\n",
    "\n",
    "!pip install -U ipywidgets\n",
    "\n",
    "from sklearn.decomposition import PCA\n",
    "import matplotlib.pyplot as plt\n",
    "!pip install -U seaborn\n",
    "import seaborn as sns\n",
    "from nltk.data import find\n",
    "\n",
    "!pip install -U sentence-transformers\n",
    "from sentence_transformers import SentenceTransformer\n",
    "import logging\n",
    "from transformers import logging as hf_logging\n",
    "from transformers import LongformerModel, LongformerTokenizer\n",
    "\n",
    "import torch"
   ]
  },
  {
   "cell_type": "code",
   "execution_count": 2,
   "id": "84db9881",
   "metadata": {
    "execution": {
     "iopub.execute_input": "2023-05-30T07:04:40.904124Z",
     "iopub.status.busy": "2023-05-30T07:04:40.903381Z",
     "iopub.status.idle": "2023-05-30T07:04:41.161088Z",
     "shell.execute_reply": "2023-05-30T07:04:41.159898Z"
    },
    "papermill": {
     "duration": 0.274928,
     "end_time": "2023-05-30T07:04:41.164118",
     "exception": false,
     "start_time": "2023-05-30T07:04:40.889190",
     "status": "completed"
    },
    "tags": []
   },
   "outputs": [],
   "source": [
    "full_data = pd.read_csv('/kaggle/input/tmdb-movie-metadata/tmdb_5000_movies.csv')"
   ]
  },
  {
   "cell_type": "code",
   "execution_count": 3,
   "id": "fbd280f5",
   "metadata": {
    "execution": {
     "iopub.execute_input": "2023-05-30T07:04:41.190798Z",
     "iopub.status.busy": "2023-05-30T07:04:41.190426Z",
     "iopub.status.idle": "2023-05-30T07:04:41.201843Z",
     "shell.execute_reply": "2023-05-30T07:04:41.200725Z"
    },
    "papermill": {
     "duration": 0.027556,
     "end_time": "2023-05-30T07:04:41.204343",
     "exception": false,
     "start_time": "2023-05-30T07:04:41.176787",
     "status": "completed"
    },
    "tags": []
   },
   "outputs": [],
   "source": [
    "# Data Preprocessing\n",
    "imp_data = full_data[['id', 'overview', 'title', 'keywords']]\n",
    "\n",
    "summaries = imp_data['overview'][:360].reset_index(drop=True)\n",
    "keywords = imp_data['keywords'][:360].reset_index(drop=True)\n",
    "titles = imp_data['title'][:360].reset_index(drop=True)\n",
    "ids = imp_data['id'][:360].reset_index(drop=True)\n",
    "\n",
    "pd.set_option('display.max_rows', None)\n",
    "pd.set_option('display.max_columns', None)\n",
    "\n",
    "# print(summaries)\n",
    "# print(keywords.head())"
   ]
  },
  {
   "cell_type": "code",
   "execution_count": 4,
   "id": "d964a1b7",
   "metadata": {
    "execution": {
     "iopub.execute_input": "2023-05-30T07:04:41.230566Z",
     "iopub.status.busy": "2023-05-30T07:04:41.229574Z",
     "iopub.status.idle": "2023-05-30T07:04:54.884576Z",
     "shell.execute_reply": "2023-05-30T07:04:54.883442Z"
    },
    "papermill": {
     "duration": 13.671124,
     "end_time": "2023-05-30T07:04:54.887567",
     "exception": false,
     "start_time": "2023-05-30T07:04:41.216443",
     "status": "completed"
    },
    "tags": []
   },
   "outputs": [
    {
     "name": "stderr",
     "output_type": "stream",
     "text": [
      "[nltk_data] Downloading package word2vec_sample to /root/nltk_data...\n"
     ]
    },
    {
     "name": "stderr",
     "output_type": "stream",
     "text": [
      "[nltk_data]   Unzipping models/word2vec_sample.zip.\n"
     ]
    }
   ],
   "source": [
    "# Get Keyword Embeddings Average for Movies using Word2Vec\n",
    "import gensim\n",
    "from gensim.models import Word2Vec\n",
    "import json\n",
    "import numpy as np\n",
    "import nltk\n",
    "nltk.download('word2vec_sample')\n",
    "\n",
    "# Parse the JSON and extract the 'name' values\n",
    "keywords = keywords.apply(lambda x: [keyword['name'] for keyword in json.loads(x)])\n",
    "\n",
    "# skip-gram on Google News data\n",
    "from nltk.data import find\n",
    "word2vec_sample = str(find('models/word2vec_sample/pruned.word2vec.txt'))\n",
    "word2vec_model = gensim.models.KeyedVectors.load_word2vec_format(word2vec_sample, binary=False)\n",
    "\n",
    "# Get the Word2Vec embeddings of the keywords and take their mean\n",
    "keyword_embeddings = []\n",
    "\n",
    "for keyword_list in keywords:\n",
    "    embedding_list = []\n",
    "    for keyword in keyword_list:\n",
    "        # Check if the word is in the model's vocabulary\n",
    "        if keyword in word2vec_model:\n",
    "            embedding = word2vec_model[keyword]\n",
    "            embedding_list.append(embedding)\n",
    "    # Take the mean of all keyword embeddings for this movie\n",
    "    if embedding_list:\n",
    "        keyword_embedding = np.mean(embedding_list, axis=0)\n",
    "    else:\n",
    "        keyword_embedding = np.zeros(300)  # assuming the embeddings are of size 300\n",
    "    keyword_embeddings.append(keyword_embedding)\n",
    "\n",
    "keyword_embeddings = np.array(keyword_embeddings)"
   ]
  },
  {
   "cell_type": "code",
   "execution_count": 5,
   "id": "3a92ff97",
   "metadata": {
    "execution": {
     "iopub.execute_input": "2023-05-30T07:04:54.914698Z",
     "iopub.status.busy": "2023-05-30T07:04:54.913918Z",
     "iopub.status.idle": "2023-05-30T07:05:05.201480Z",
     "shell.execute_reply": "2023-05-30T07:05:05.200595Z"
    },
    "papermill": {
     "duration": 10.304046,
     "end_time": "2023-05-30T07:05:05.204670",
     "exception": false,
     "start_time": "2023-05-30T07:04:54.900624",
     "status": "completed"
    },
    "tags": []
   },
   "outputs": [
    {
     "name": "stdout",
     "output_type": "stream",
     "text": [
      "INFO:tensorflow:Deallocate tpu buffers before initializing tpu system.\n"
     ]
    },
    {
     "name": "stdout",
     "output_type": "stream",
     "text": [
      "INFO:tensorflow:Initializing the TPU system: local\n"
     ]
    },
    {
     "name": "stdout",
     "output_type": "stream",
     "text": [
      "INFO:tensorflow:Finished initializing TPU system.\n"
     ]
    },
    {
     "name": "stdout",
     "output_type": "stream",
     "text": [
      "INFO:tensorflow:Found TPU system:\n"
     ]
    },
    {
     "name": "stdout",
     "output_type": "stream",
     "text": [
      "INFO:tensorflow:*** Num TPU Cores: 8\n"
     ]
    },
    {
     "name": "stdout",
     "output_type": "stream",
     "text": [
      "INFO:tensorflow:*** Num TPU Workers: 1\n"
     ]
    },
    {
     "name": "stdout",
     "output_type": "stream",
     "text": [
      "INFO:tensorflow:*** Num TPU Cores Per Worker: 8\n"
     ]
    },
    {
     "name": "stdout",
     "output_type": "stream",
     "text": [
      "INFO:tensorflow:*** Available Device: _DeviceAttributes(/job:localhost/replica:0/task:0/device:CPU:0, CPU, 0, 0)\n"
     ]
    },
    {
     "name": "stdout",
     "output_type": "stream",
     "text": [
      "INFO:tensorflow:*** Available Device: _DeviceAttributes(/job:localhost/replica:0/task:0/device:TPU:0, TPU, 0, 0)\n"
     ]
    },
    {
     "name": "stdout",
     "output_type": "stream",
     "text": [
      "INFO:tensorflow:*** Available Device: _DeviceAttributes(/job:localhost/replica:0/task:0/device:TPU:1, TPU, 0, 0)\n"
     ]
    },
    {
     "name": "stdout",
     "output_type": "stream",
     "text": [
      "INFO:tensorflow:*** Available Device: _DeviceAttributes(/job:localhost/replica:0/task:0/device:TPU:2, TPU, 0, 0)\n"
     ]
    },
    {
     "name": "stdout",
     "output_type": "stream",
     "text": [
      "INFO:tensorflow:*** Available Device: _DeviceAttributes(/job:localhost/replica:0/task:0/device:TPU:3, TPU, 0, 0)\n"
     ]
    },
    {
     "name": "stdout",
     "output_type": "stream",
     "text": [
      "INFO:tensorflow:*** Available Device: _DeviceAttributes(/job:localhost/replica:0/task:0/device:TPU:4, TPU, 0, 0)\n"
     ]
    },
    {
     "name": "stdout",
     "output_type": "stream",
     "text": [
      "INFO:tensorflow:*** Available Device: _DeviceAttributes(/job:localhost/replica:0/task:0/device:TPU:5, TPU, 0, 0)\n"
     ]
    },
    {
     "name": "stdout",
     "output_type": "stream",
     "text": [
      "INFO:tensorflow:*** Available Device: _DeviceAttributes(/job:localhost/replica:0/task:0/device:TPU:6, TPU, 0, 0)\n"
     ]
    },
    {
     "name": "stdout",
     "output_type": "stream",
     "text": [
      "INFO:tensorflow:*** Available Device: _DeviceAttributes(/job:localhost/replica:0/task:0/device:TPU:7, TPU, 0, 0)\n"
     ]
    },
    {
     "name": "stdout",
     "output_type": "stream",
     "text": [
      "INFO:tensorflow:*** Available Device: _DeviceAttributes(/job:localhost/replica:0/task:0/device:TPU_SYSTEM:0, TPU_SYSTEM, 0, 0)\n"
     ]
    }
   ],
   "source": [
    "# Set TPU strategy\n",
    "resolver = tf.distribute.cluster_resolver.TPUClusterResolver()\n",
    "tf.config.experimental_connect_to_cluster(resolver)\n",
    "tf.tpu.experimental.initialize_tpu_system(resolver)\n",
    "strategy = tf.distribute.TPUStrategy(resolver)"
   ]
  },
  {
   "cell_type": "code",
   "execution_count": 6,
   "id": "85d1eeb2",
   "metadata": {
    "execution": {
     "iopub.execute_input": "2023-05-30T07:05:05.233018Z",
     "iopub.status.busy": "2023-05-30T07:05:05.232710Z",
     "iopub.status.idle": "2023-05-30T08:12:43.658878Z",
     "shell.execute_reply": "2023-05-30T08:12:43.657609Z"
    },
    "papermill": {
     "duration": 4058.457279,
     "end_time": "2023-05-30T08:12:43.675634",
     "exception": false,
     "start_time": "2023-05-30T07:05:05.218355",
     "status": "completed"
    },
    "tags": []
   },
   "outputs": [
    {
     "data": {
      "application/vnd.jupyter.widget-view+json": {
       "model_id": "113dd477d7594cd291f03698a5706ee4",
       "version_major": 2,
       "version_minor": 0
      },
      "text/plain": [
       "Downloading (…)lve/main/config.json:   0%|          | 0.00/694 [00:00<?, ?B/s]"
      ]
     },
     "metadata": {},
     "output_type": "display_data"
    },
    {
     "data": {
      "application/vnd.jupyter.widget-view+json": {
       "model_id": "79e05d1f7734430994e5c70ec723dcec",
       "version_major": 2,
       "version_minor": 0
      },
      "text/plain": [
       "Downloading tf_model.h5:   0%|          | 0.00/765M [00:00<?, ?B/s]"
      ]
     },
     "metadata": {},
     "output_type": "display_data"
    },
    {
     "name": "stderr",
     "output_type": "stream",
     "text": [
      "Some layers from the model checkpoint at allenai/longformer-base-4096 were not used when initializing TFLongformerModel: ['lm_head']\n",
      "- This IS expected if you are initializing TFLongformerModel from the checkpoint of a model trained on another task or with another architecture (e.g. initializing a BertForSequenceClassification model from a BertForPreTraining model).\n",
      "- This IS NOT expected if you are initializing TFLongformerModel from the checkpoint of a model that you expect to be exactly identical (initializing a BertForSequenceClassification model from a BertForSequenceClassification model).\n"
     ]
    },
    {
     "name": "stderr",
     "output_type": "stream",
     "text": [
      "All the layers of TFLongformerModel were initialized from the model checkpoint at allenai/longformer-base-4096.\n",
      "If your task is similar to the task the model of the checkpoint was trained on, you can already use TFLongformerModel for predictions without further training.\n"
     ]
    },
    {
     "data": {
      "application/vnd.jupyter.widget-view+json": {
       "model_id": "a9c406c4328e408ea4f883d417b1bbdf",
       "version_major": 2,
       "version_minor": 0
      },
      "text/plain": [
       "Downloading (…)olve/main/vocab.json:   0%|          | 0.00/899k [00:00<?, ?B/s]"
      ]
     },
     "metadata": {},
     "output_type": "display_data"
    },
    {
     "data": {
      "application/vnd.jupyter.widget-view+json": {
       "model_id": "c8bf57df5c96498e8633c1baa75cafa9",
       "version_major": 2,
       "version_minor": 0
      },
      "text/plain": [
       "Downloading (…)olve/main/merges.txt:   0%|          | 0.00/456k [00:00<?, ?B/s]"
      ]
     },
     "metadata": {},
     "output_type": "display_data"
    },
    {
     "name": "stdout",
     "output_type": "stream",
     "text": [
      "(360, 768)\n"
     ]
    }
   ],
   "source": [
    "import tensorflow as tf\n",
    "from transformers import TFLongformerModel, LongformerTokenizer\n",
    "import numpy as np\n",
    "import gc\n",
    "import time\n",
    "import sys\n",
    "\n",
    "# Tokenize all the summaries\n",
    "def longformer_tokenize_data(tokenizer, summaries):\n",
    "    tokenized_summaries = []\n",
    "    for summary in summaries:\n",
    "        # Tokenize the text\n",
    "        tokenized_summary = tokenizer(summary, truncation=True, max_length=4096, padding='max_length', return_tensors=\"tf\")\n",
    "        tokenized_summaries.append(tokenized_summary)\n",
    "    return tokenized_summaries\n",
    "\n",
    "# Wrap the model call in strategy.scope\n",
    "with strategy.scope():\n",
    "    model = TFLongformerModel.from_pretrained('allenai/longformer-base-4096')\n",
    "\n",
    "# Instantiate the Longformer model and tokenizer\n",
    "tokenizer = LongformerTokenizer.from_pretrained('allenai/longformer-base-4096')\n",
    "\n",
    "# Tokenize summaries with LongformerTokenizer\n",
    "#start = time.time()\n",
    "processed_data = longformer_tokenize_data(tokenizer, summaries)\n",
    "#stop = time.time()\n",
    "#print(\"Tokenizer Step for all summaries: \", stop - start, \" seconds\")\n",
    "#print(\"\\n\")\n",
    "\n",
    "with strategy.scope():\n",
    "    # Process the data\n",
    "    summary_embeddings = []\n",
    "    for i, data in enumerate(processed_data):\n",
    "        # start2 = time.time()\n",
    "        input_ids = data['input_ids']\n",
    "        attention_mask = data['attention_mask']\n",
    "        outputs = model(input_ids, attention_mask=attention_mask)\n",
    "        summary_embeddings.append(outputs[0])\n",
    "        # stop2 = time.time()\n",
    "        # print(\"Time for embedding \", i, \": \", stop2 - start2, \" seconds\")\n",
    "\n",
    "# Reshape output embeddings by taking the mean across sequence_length dimension\n",
    "# and squeezing to remove batch_size dimension\n",
    "embeddings = [np.mean(x.numpy(), axis=1).squeeze() for x in summary_embeddings]\n",
    "\n",
    "# Memory Cleanup\n",
    "del summary_embeddings\n",
    "gc.collect()\n",
    "\n",
    "# Set print options\n",
    "np.set_printoptions(threshold=sys.maxsize)\n",
    "\n",
    "embeddings = np.array(embeddings)\n",
    "\n",
    "np.save('/kaggle/working/tmdb_360_summary_and_keyword_embeddings.npy', embeddings)\n",
    "\n",
    "# Output: NumPy array of vector embeddings\n",
    "print(embeddings.shape)"
   ]
  },
  {
   "cell_type": "code",
   "execution_count": 7,
   "id": "eddbad8f",
   "metadata": {
    "execution": {
     "iopub.execute_input": "2023-05-30T08:12:43.705980Z",
     "iopub.status.busy": "2023-05-30T08:12:43.705089Z",
     "iopub.status.idle": "2023-05-30T08:12:43.710505Z",
     "shell.execute_reply": "2023-05-30T08:12:43.709438Z"
    },
    "papermill": {
     "duration": 0.022481,
     "end_time": "2023-05-30T08:12:43.712331",
     "exception": false,
     "start_time": "2023-05-30T08:12:43.689850",
     "status": "completed"
    },
    "tags": []
   },
   "outputs": [],
   "source": [
    "# Concatenate the summary embeddings and keyword embeddings\n",
    "all_embeddings = np.concatenate((embeddings, keyword_embeddings), axis=1)"
   ]
  },
  {
   "cell_type": "code",
   "execution_count": 8,
   "id": "54ef515a",
   "metadata": {
    "execution": {
     "iopub.execute_input": "2023-05-30T08:12:43.742187Z",
     "iopub.status.busy": "2023-05-30T08:12:43.741732Z",
     "iopub.status.idle": "2023-05-30T08:12:46.961938Z",
     "shell.execute_reply": "2023-05-30T08:12:46.959461Z"
    },
    "papermill": {
     "duration": 3.240624,
     "end_time": "2023-05-30T08:12:46.966660",
     "exception": false,
     "start_time": "2023-05-30T08:12:43.726036",
     "status": "completed"
    },
    "tags": []
   },
   "outputs": [
    {
     "name": "stderr",
     "output_type": "stream",
     "text": [
      "/usr/local/lib/python3.8/site-packages/sklearn/cluster/_kmeans.py:870: FutureWarning: The default value of `n_init` will change from 10 to 'auto' in 1.4. Set the value of `n_init` explicitly to suppress the warning\n",
      "  warnings.warn(\n"
     ]
    }
   ],
   "source": [
    "from sklearn.cluster import KMeans\n",
    "from sklearn.metrics import davies_bouldin_score\n",
    "\n",
    "number_of_clusters = 120\n",
    "\n",
    "# Perform clustering with KMeans\n",
    "clustering = KMeans(n_clusters=number_of_clusters, random_state=7).fit(all_embeddings)\n",
    "\n",
    "# Assign labels to data points\n",
    "labels = clustering.labels_\n",
    "\n",
    "# Compute Davies-Bouldin Index\n",
    "db_score = davies_bouldin_score(processed_data, labels)\n",
    "\n",
    "print('Davies-Bouldin Index: ', db_score)\n"
   ]
  },
  {
   "cell_type": "code",
   "execution_count": 9,
   "id": "424725e6",
   "metadata": {
    "execution": {
     "iopub.execute_input": "2023-05-30T08:12:47.006986Z",
     "iopub.status.busy": "2023-05-30T08:12:47.006609Z",
     "iopub.status.idle": "2023-05-30T08:12:47.976133Z",
     "shell.execute_reply": "2023-05-30T08:12:47.974883Z"
    },
    "papermill": {
     "duration": 0.990567,
     "end_time": "2023-05-30T08:12:47.980595",
     "exception": false,
     "start_time": "2023-05-30T08:12:46.990028",
     "status": "completed"
    },
    "tags": []
   },
   "outputs": [
    {
     "data": {
      "image/png": "[encoded data removed]",
      "text/plain": [
       "<Figure size 1000x1000 with 1 Axes>"
      ]
     },
     "metadata": {},
     "output_type": "display_data"
    },
    {
     "name": "stdout",
     "output_type": "stream",
     "text": [
      "Cluster 0 summaries:\n",
      "        ID            Title                                            Summary\n",
      "309  10214  Son of the Mask  Tim Avery, an aspiring cartoonist, finds himse...\n",
      "\n",
      "\n",
      "Cluster 1 summaries:\n",
      "        ID                                  Title                                            Summary\n",
      "98   49051      The Hobbit: An Unexpected Journey  Bilbo Baggins, a hobbit enjoying his quiet lif...\n",
      "208   1911                       The 13th Warrior  In AD 922, Arab courtier, Ahmad Ibn Fadlan acc...\n",
      "330    121  The Lord of the Rings: The Two Towers  Frodo and Sam are trekking to Mordor to destro...\n",
      "\n",
      "\n",
      "Cluster 2 summaries:\n",
      "         ID                            Title                                            Summary\n",
      "104     503                         Poseidon  A packed cruise ship traveling the Atlantic is...\n",
      "105  241259  Alice Through the Looking Glass  In the sequel to Tim Burton's \"Alice in Wonder...\n",
      "138   10196               The Last Airbender  The story follows the adventures of Aang, a yo...\n",
      "176  281957                     The Revenant  In the 1820s, a frontiersman, Hugh Glass, sets...\n",
      "196   38055                         Megamind  Bumbling supervillain Megamind finally defeats...\n",
      "217    1250                      Ghost Rider  In order to save his dying father, young stunt...\n",
      "289   11688         The Emperor's New Groove  Kuzco is a self-centered emperor who summons P...\n",
      "\n",
      "\n",
      "Cluster 3 summaries:\n",
      "        ID                       Title                                            Summary\n",
      "33   36668       X-Men: The Last Stand  When a cure is found to treat mutations, lines...\n",
      "46  127585  X-Men: Days of Future Past  The ultimate X-Men ensemble fights a war for t...\n",
      "64  246655           X-Men: Apocalypse  After the re-emergence of the world's first mu...\n",
      "\n",
      "\n",
      "Cluster 4 summaries:\n",
      "         ID                                   Title                                            Summary\n",
      "50     9543     Prince of Persia: The Sands of Time  A rogue prince reluctantly joins forces with a...\n",
      "57    10681                                  WALL·E  WALL·E is the last robot left on an Earth that...\n",
      "68     1726                                Iron Man  After being held captive in an Afghan cave, bi...\n",
      "71     1735   The Mummy: Tomb of the Dragon Emperor  Archaeologist Rick O'Connell travels to China,...\n",
      "83    79698                              The Lovers  The Lovers is an epic romance time travel adve...\n",
      "86    10192                     Shrek Forever After  A bored and domesticated Shrek pacts with deal...\n",
      "91    47933            Independence Day: Resurgence  We always knew they were coming back. Using re...\n",
      "126   76338                    Thor: The Dark World  Thor fights to restore order across the cosmos...\n",
      "131   19585                                 G-Force  A team of trained secret agent animals, guinea...\n",
      "146   80321      Madagascar 3: Europe's Most Wanted  Alex, Marty, Gloria and Melman are still tryin...\n",
      "147   36669                         Die Another Day  Bond takes on a North Korean leader who underg...\n",
      "157  147441                  Exodus: Gods and Kings  The defiant leader Moses rises up against the ...\n",
      "162   10048                                 Stealth  Deeply ensconced in a top-secret military prog...\n",
      "169    1771      Captain America: The First Avenger  Predominantly set during World War II, Steve R...\n",
      "179  270946                  Penguins of Madagascar  Skipper, Kowalski, Rico and Private join force...\n",
      "182  102899                                 Ant-Man  Armed with the astonishing ability to shrink i...\n",
      "205   58574      Sherlock Holmes: A Game of Shadows  There is a new criminal mastermind at large (P...\n",
      "210     415                          Batman & Robin  Along with crime-fighting partner Robin and ne...\n",
      "253   53182                  300: Rise of an Empire  Based on Frank Miller's latest graphic novel X...\n",
      "263   10204             Around the World in 80 Days  A bet pits a British inventor, a Chinese thief...\n",
      "312   22972                              Green Zone  During the U.S.-led occupation of Baghdad in 2...\n",
      "317   76758                      The Flowers of War  A Westerner finds refuge with a group of women...\n",
      "323   37786                      Sex and the City 2  Carrie, Charlotte, and Miranda are all married...\n",
      "344   44048                             Unstoppable  A runaway train, transporting deadly, toxic ch...\n",
      "345    5175                             Rush Hour 2  It's vacation time for Carter as he finds hims...\n",
      "359  258509  Alvin and the Chipmunks: The Road Chip  Through a series of misunderstandings, Alvin, ...\n",
      "\n",
      "\n",
      "Cluster 5 summaries:\n",
      "        ID                Title                                            Summary\n",
      "132  57165  Wrath of the Titans  A decade after his heroic defeat of the monstr...\n",
      "206  18823  Clash of the Titans  Born of a god but raised as a man, Perseus is ...\n",
      "\n",
      "\n",
      "Cluster 6 summaries:\n",
      "        ID                      Title                                            Summary\n",
      "45   72190                World War Z  Life for former United Nations investigator Ge...\n",
      "185     74          War of the Worlds  Ray Ferrier is a divorced dockworker and less-...\n",
      "223   2789  The Chronicles of Riddick  After years of outrunning ruthless bounty hunt...\n",
      "\n",
      "\n",
      "Cluster 7 summaries:\n",
      "         ID                Title                                            Summary\n",
      "54   105864    The Good Dinosaur  An epic journey into the world of dinosaurs wh...\n",
      "243    1593  Night at the Museum  Chaos reigns at the natural history museum whe...\n",
      "\n",
      "\n",
      "Cluster 8 summaries:\n",
      "        ID      Title                                            Summary\n",
      "188  27576       Salt  As a CIA officer, Evelyn Salt swore an oath to...\n",
      "282  36955  True Lies  Harry Tasker is a secret agent for the United ...\n",
      "\n",
      "\n",
      "Cluster 9 summaries:\n",
      "        ID       Title                                            Summary\n",
      "81  102651  Maleficent  The untold story of Disney's most iconic villa...\n",
      "\n",
      "\n",
      "Cluster 10 summaries:\n",
      "         ID                    Title                                            Summary\n",
      "47    54138  Star Trek Into Darkness  When the crew of the Enterprise is called back...\n",
      "184  228161                     Home  When Earth is taken over by the overly-confide...\n",
      "228   75612                 Oblivion  Jack Harper is one of the last few drone repai...\n",
      "\n",
      "\n",
      "Cluster 11 summaries:\n",
      "       ID                    Title                                            Summary\n",
      "332  1995  Lara Croft: Tomb Raider  English aristocrat Lara Croft is skilled in ha...\n",
      "\n",
      "\n",
      "Cluster 12 summaries:\n",
      "         ID          Title                                            Summary\n",
      "187  417859  Puss in Boots  Long before he even met Shrek, the notorious f...\n",
      "\n",
      "\n",
      "Cluster 13 summaries:\n",
      "         ID                                      Title                                            Summary\n",
      "8       767     Harry Potter and the Half-Blood Prince  As Harry begins his sixth year at Hogwarts, he...\n",
      "113     675  Harry Potter and the Order of the Phoenix  Returning for his fifth year of study at Hogwa...\n",
      "197     671   Harry Potter and the Philosopher's Stone  Harry Potter has lived under the stairs at his...\n",
      "237  290595                 The Huntsman: Winter's War  As two evil sisters prepare to conquer the lan...\n",
      "276     672    Harry Potter and the Chamber of Secrets  Ignoring threats to his life, Harry returns to...\n",
      "331   68737                                Seventh Son  John Gregory, who is a seventh son of a sevent...\n",
      "\n",
      "\n",
      "Cluster 14 summaries:\n",
      "       ID                     Title                                            Summary\n",
      "99   9799  The Fast and the Furious  Domenic Toretto is a Los Angeles street racer ...\n",
      "351  1422              The Departed  To take down South Boston's Irish Mafia, the p...\n",
      "\n",
      "\n",
      "Cluster 15 summaries:\n",
      "      ID            Title                                            Summary\n",
      "150  608  Men in Black II  Kay and Jay reunite to provide our best, last ...\n",
      "342  607     Men in Black  Men in Black follows the exploits of agents Ka...\n",
      "\n",
      "\n",
      "Cluster 16 summaries:\n",
      "        ID                                              Title                                            Summary\n",
      "12      58         Pirates of the Caribbean: Dead Man's Chest  Captain Jack Sparrow works his way out of a bl...\n",
      "198  49524                                           R.I.P.D.  A recently slain cop joins a team of undead po...\n",
      "199     22  Pirates of the Caribbean: The Curse of the Bla...  Jack Sparrow, a freewheeling 17th-century pira...\n",
      "233   1893          Star Wars: Episode I - The Phantom Menace  Anakin Skywalker, a young slave strong with th...\n",
      "297   1372                                      Blood Diamond  An ex-mercenary turned smuggler. A Mende fishe...\n",
      "\n",
      "\n",
      "Cluster 17 summaries:\n",
      "        ID          Title                                            Summary\n",
      "14   49521   Man of Steel  A young boy learns that he has extraordinary p...\n",
      "203  36658             X2  Professor Charles Xavier and his team of genet...\n",
      "232  76170  The Wolverine  Wolverine faces his ultimate nemesis - and tes...\n",
      "\n",
      "\n",
      "Cluster 18 summaries:\n",
      "        ID                                Title                                            Summary\n",
      "16   24428                         The Avengers  When an unexpected enemy emerges and threatens...\n",
      "85  100402  Captain America: The Winter Soldier  After the cataclysmic events in New York with ...\n",
      "\n",
      "\n",
      "Cluster 19 summaries:\n",
      "        ID                                              Title                                            Summary\n",
      "37   68728                         Oz: The Great and Powerful  Oscar Diggs, a small-time circus illusionist a...\n",
      "107  68735                                           Warcraft  The peaceful realm of Azeroth stands on the br...\n",
      "109  10140  The Chronicles of Narnia: The Voyage of the Da...  This time around Edmund and Lucy Pevensie, alo...\n",
      "114    674                Harry Potter and the Goblet of Fire  Harry starts his fourth year at Hogwarts, comp...\n",
      "191    673           Harry Potter and the Prisoner of Azkaban  Harry, Ron and Hermione return to Hogwarts for...\n",
      "254  41513                                         The Smurfs  When the evil wizard Gargamel chases the tiny ...\n",
      "\n",
      "\n",
      "Cluster 20 summaries:\n",
      "         ID                                           Title                                            Summary\n",
      "121   18360  Night at the Museum: Battle of the Smithsonian  Hapless museum night watchman Larry Daley must...\n",
      "195  181533         Night at the Museum: Secret of the Tomb  When the magic powers of The Tablet of Ahkmenr...\n",
      "\n",
      "\n",
      "Cluster 21 summaries:\n",
      "        ID        Title                                            Summary\n",
      "51   68726  Pacific Rim  When legions of monstrous creatures, known as ...\n",
      "193  82700  After Earth  One thousand years after cataclysmic events fo...\n",
      "222  68724      Elysium  In the year 2159, two classes of people exist:...\n",
      "\n",
      "\n",
      "Cluster 22 summaries:\n",
      "        ID           Title                                            Summary\n",
      "173  65759  Happy Feet Two  Mumble the penguin has a problem: his son Erik...\n",
      "\n",
      "\n",
      "Cluster 23 summaries:\n",
      "      ID            Title                                            Summary\n",
      "164  944  Lethal Weapon 4  In the combustible action franchise's final in...\n",
      "\n",
      "\n",
      "Cluster 24 summaries:\n",
      "         ID                                              Title                                            Summary\n",
      "1       285           Pirates of the Caribbean: At World's End  Captain Barbossa, long believed to be dead, ha...\n",
      "13    57201                                    The Lone Ranger  The Texas Rangers chase down a gang of outlaws...\n",
      "17     1865        Pirates of the Caribbean: On Stranger Tides  Captain Jack Sparrow crosses paths with a woma...\n",
      "19   122917          The Hobbit: The Battle of the Five Armies  Immediately after the events of The Desolation...\n",
      "25      597                                            Titanic  84 years later, a 101-year-old woman named Ros...\n",
      "27    44833                                         Battleship  When mankind beams a radio signal into space, ...\n",
      "53      217  Indiana Jones and the Kingdom of the Crystal S...  Set during the Cold War, the Soviets – led by ...\n",
      "55    62177                                              Brave  Brave is set in the mystical Scottish Highland...\n",
      "63      411  The Chronicles of Narnia: The Lion, the Witch ...  Siblings Lucy, Edmund, Susan and Peter step th...\n",
      "89    82690                                     Wreck-It Ralph  Wreck-It Ralph is the 9-foot-tall, 643-pound v...\n",
      "92    10191                           How to Train Your Dragon  As the son of a Viking leader on the cusp of m...\n",
      "103   27022                          The Sorcerer's Apprentice  Balthazar Blake is a master sorcerer in modern...\n",
      "106     810                                    Shrek the Third  The King of Far Far Away has died and Shrek an...\n",
      "118    2062                                        Ratatouille  A rat named Remy dreams of becoming a great Fr...\n",
      "142   11619                                       Flushed Away  London high-society mouse, Roddy is flushed do...\n",
      "145     652                                               Troy  In year 1250 B.C. during the late Bronze age, ...\n",
      "152  140300                                    Kung Fu Panda 3  Continuing his \"legendary adventures of awesom...\n",
      "156     616                                   The Last Samurai  Nathan Algren is an American hired to instruct...\n",
      "160   82702                         How to Train Your Dragon 2  The thrilling second chapter of the epic How T...\n",
      "181    9502                                      Kung Fu Panda  When the Valley of Peace is threatened, lazy P...\n",
      "216   87827                                         Life of Pi  The story of an Indian boy named Pi, a zookeep...\n",
      "221   10996                                    Stuart Little 2  Stuart, an adorable white mouse, still lives h...\n",
      "231     585                                     Monsters, Inc.  James Sullivan and Mike Wazowski are monsters,...\n",
      "238   98566                       Teenage Mutant Ninja Turtles  The city needs heroes. Darkness has settled ov...\n",
      "257   39254                                         Real Steel  In the near-future, Charlie Kenton is a washed...\n",
      "262     120  The Lord of the Rings: The Fellowship of the Ring  Young hobbit Frodo Baggins, after inheriting a...\n",
      "274      98                                          Gladiator  In the year 180, the death of emperor Marcus A...\n",
      "310  205775                            In the Heart of the Sea  In the winter of 1820, the New England whaling...\n",
      "316    3131                                  Gangs of New York  It's 1863. America was born in the streets. Am...\n",
      "318    9408                                          Surf's Up  Cody is a surfing penguin from Shiverpool who ...\n",
      "340    1408                                   Cutthroat Island  Morgan Adams and her slave, William Shaw, are ...\n",
      "\n",
      "\n",
      "Cluster 25 summaries:\n",
      "       ID        Title                                            Summary\n",
      "135  7978  The Wolfman  Lawrence Talbot, an American man on a visit to...\n",
      "\n",
      "\n",
      "Cluster 26 summaries:\n",
      "        ID                                          Title                                            Summary\n",
      "119    272                                  Batman Begins  Driven by tragedy, billionaire Bruce Wayne ded...\n",
      "180   2503                           The Bourne Ultimatum  Bourne is brought out of hiding once again by ...\n",
      "186   8961                                    Bad Boys II  Out-of-control, trash-talking buddy cops Marcu...\n",
      "230   1894   Star Wars: Episode II - Attack of the Clones  Ten years after the invasion of Naboo, the gal...\n",
      "273   9679                          Gone in Sixty Seconds  Upon learning that he has to come out of retir...\n",
      "281   4982                              American Gangster  Following the death of his employer and mentor...\n",
      "286   9268                                         Eraser  U.S. Marshall John Kruger erases the identitie...\n",
      "329    122  The Lord of the Rings: The Return of the King  Aragorn is revealed as the heir to the ancient...\n",
      "354  65754                The Girl with the Dragon Tattoo  This English-language adaptation of the Swedis...\n",
      "\n",
      "\n",
      "Cluster 27 summaries:\n",
      "        ID                                Title                                            Summary\n",
      "22   57158  The Hobbit: The Desolation of Smaug  The Dwarves, Bilbo and Gandalf have successful...\n",
      "292   2486                               Eragon  In his homeland of Alagaesia, a farm boy happe...\n",
      "\n",
      "\n",
      "Cluster 28 summaries:\n",
      "        ID       Title                                            Summary\n",
      "234  49519  The Croods  The Croods is a prehistoric comedy adventure t...\n",
      "\n",
      "\n",
      "Cluster 29 summaries:\n",
      "         ID                                  Title                                            Summary\n",
      "26   271110             Captain America: Civil War  Following the events of Age of Ultron, the col...\n",
      "102  131634  The Hunger Games: Mockingjay - Part 2  With the nation of Panem in a full scale war, ...\n",
      "200  131631  The Hunger Games: Mockingjay - Part 1  Katniss Everdeen reluctantly becomes the symbo...\n",
      "249  262500                              Insurgent  Beatrice Prior must confront her inner demons ...\n",
      "256  262504                              Allegiant  Beatrice Prior and Tobias Eaton venture into t...\n",
      "278     869                     Planet of the Apes  After a spectacular crash-landing on an unchar...\n",
      "\n",
      "\n",
      "Cluster 30 summaries:\n",
      "        ID                      Title                                            Summary\n",
      "293  16523  Where the Wild Things Are  Max imagines running away from his mom and sai...\n",
      "\n",
      "\n",
      "Cluster 31 summaries:\n",
      "        ID                               Title                                            Summary\n",
      "9   209112  Batman v Superman: Dawn of Justice  Fearing the actions of a god-like Super Hero l...\n",
      "79   10138                          Iron Man 2  With the world now aware of his dual life as t...\n",
      "\n",
      "\n",
      "Cluster 32 summaries:\n",
      "        ID          Title                                            Summary\n",
      "72  297761  Suicide Squad  From DC Comics comes the Suicide Squad, an ant...\n",
      "\n",
      "\n",
      "Cluster 33 summaries:\n",
      "        ID                      Title                                            Summary\n",
      "328     12               Finding Nemo  Nemo, an adventurous young clownfish, is unexp...\n",
      "358  10865  Atlantis: The Lost Empire  The world's most highly qualified crew of arch...\n",
      "\n",
      "\n",
      "Cluster 34 summaries:\n",
      "         ID                                             Title                                            Summary\n",
      "78   278927                                   The Jungle Book  After a threat from the tiger Shere Khan force...\n",
      "112    1966                                         Alexander  Alexander, the King of Macedonia, leads his le...\n",
      "241  308531  Teenage Mutant Ninja Turtles: Out of the Shadows  After supervillain Shredder escapes custody, h...\n",
      "268   10137                                     Stuart Little  The adventures of a heroic and debonair stalwa...\n",
      "\n",
      "\n",
      "Cluster 35 summaries:\n",
      "        ID         Title                                            Summary\n",
      "258  77931  The Smurfs 2  The evil wizard Gargamel creates a couple of m...\n",
      "\n",
      "\n",
      "Cluster 36 summaries:\n",
      "        ID                                   Title                                            Summary\n",
      "52   38356          Transformers: Dark of the Moon  Sam Witwicky takes his first tenuous steps int...\n",
      "76   14869             G.I. Joe: The Rise of Cobra  From the Egyptian desert to deep below the pol...\n",
      "100   4922     The Curious Case of Benjamin Button  Tells the story of Benjamin Button, a man who ...\n",
      "110    676                            Pearl Harbor  The lifelong friendship between Rafe McCawley ...\n",
      "136   5559                               Bee Movie  Barry B. Benson, a bee who has just graduated ...\n",
      "139    956                 Mission: Impossible III  Retired from active duty to train new IMF agen...\n",
      "165   1927                                    Hulk  Bruce Banner, a genetics researcher with a tra...\n",
      "166  72559                   G.I. Joe: Retaliation  Framed for crimes against the country, the G.I...\n",
      "170  36643                 The World Is Not Enough  Greed, revenge, world dominance and high-tech ...\n",
      "174   1724                     The Incredible Hulk  Scientist Bruce Banner scours the planet for a...\n",
      "178  44896                                   Rango  When Rango, a lost family pet, accidentally wi...\n",
      "192   6972                               Australia  Set in northern Australia before World War II,...\n",
      "213    955                  Mission: Impossible II  With computer genius Luther Stickell at his si...\n",
      "215   1979  Fantastic 4: Rise of the Silver Surfer  The Fantastic Four return to the big screen as...\n",
      "227  37834                          Knight and Day  A fugitive couple goes on a glamorous and some...\n",
      "240   9619                            Dante's Peak  Volcanologist Harry Dalton comes to the sleepy...\n",
      "246   2024                             The Patriot  After proving himself on the field of battle i...\n",
      "259   1639                 Speed 2: Cruise Control  Sandra Bullock and Jason Patric star as a youn...\n",
      "290  76163                       The Expendables 2  Mr. Church reunites the Expendables for what s...\n",
      "334    331                       Jurassic Park III  In need of funds for research, Dr. Alan Grant ...\n",
      "343    863                             Toy Story 2  Andy heads off to Cowboy Camp, leaving his toy...\n",
      "\n",
      "\n",
      "Cluster 37 summaries:\n",
      "        ID         Title                                            Summary\n",
      "148  43074  Ghostbusters  Following a ghost invasion of Manhattan, paran...\n",
      "\n",
      "\n",
      "Cluster 38 summaries:\n",
      "      ID        Title                                            Summary\n",
      "58  5174  Rush Hour 3  After an attempted assassination on Ambassador...\n",
      "\n",
      "\n",
      "Cluster 39 summaries:\n",
      "       ID       Title                                            Summary\n",
      "31  68721  Iron Man 3  When Tony Stark's world is torn apart by a for...\n",
      "\n",
      "\n",
      "Cluster 40 summaries:\n",
      "       ID   Title                                            Summary\n",
      "167  7364  Sahara  Scouring the ocean depths for treasure-laden s...\n",
      "\n",
      "\n",
      "Cluster 41 summaries:\n",
      "         ID              Title                                            Summary\n",
      "225    7459        Speed Racer  Speed Racer is the tale of a young and brillia...\n",
      "313  227973  The Peanuts Movie  Snoopy embarks upon his greatest mission as he...\n",
      "\n",
      "\n",
      "Cluster 42 summaries:\n",
      "       ID             Title                                            Summary\n",
      "350  4327  Charlie's Angels  Aspects of this take on the 1970s hit TV serie...\n",
      "\n",
      "\n",
      "Cluster 43 summaries:\n",
      "        ID         Title                                            Summary\n",
      "321  77953  The Campaign  Two rival politicians compete to win an electi...\n",
      "\n",
      "\n",
      "Cluster 44 summaries:\n",
      "        ID                       Title                                            Summary\n",
      "325  57800  Ice Age: Continental Drift  Manny, Diego, and Sid embark upon another adve...\n",
      "\n",
      "\n",
      "Cluster 45 summaries:\n",
      "        ID               Title                                            Summary\n",
      "265  10588  The Cat in the Hat  Conrad and Sally Walden are home alone with th...\n",
      "\n",
      "\n",
      "Cluster 46 summaries:\n",
      "       ID               Title                                            Summary\n",
      "18  41154      Men in Black 3  Agents J (Will Smith) and K (Tommy Lee Jones) ...\n",
      "67  15512  Monsters vs Aliens  When Susan Murphy is unwittingly clobbered by ...\n",
      "\n",
      "\n",
      "Cluster 47 summaries:\n",
      "         ID    Title                                            Summary\n",
      "357  271969  Ben-Hur  A falsely accused nobleman survives years of s...\n",
      "\n",
      "\n",
      "Cluster 48 summaries:\n",
      "       ID                                            Title                                            Summary\n",
      "171  8619  Master and Commander: The Far Side of the World  After an abrupt and violent encounter with a F...\n",
      "\n",
      "\n",
      "Cluster 49 summaries:\n",
      "       ID     Title                                            Summary\n",
      "84  64686  47 Ronin  Based on the original 1941 movie from Japan, a...\n",
      "\n",
      "\n",
      "Cluster 50 summaries:\n",
      "        ID        Title                                            Summary\n",
      "236  12100  Windtalkers  Joe Enders is a gung-ho Marine assigned to pro...\n",
      "\n",
      "\n",
      "Cluster 51 summaries:\n",
      "      ID            Title                                            Summary\n",
      "320  855  Black Hawk Down  When U.S. Rangers and an elite Delta Force tea...\n",
      "\n",
      "\n",
      "Cluster 52 summaries:\n",
      "       ID              Title                                            Summary\n",
      "61  76757  Jupiter Ascending  In a universe where human genetic material is ...\n",
      "\n",
      "\n",
      "Cluster 53 summaries:\n",
      "        ID                       Title                                            Summary\n",
      "283  18487  The Taking of Pelham 1 2 3  Armed men hijack a New York City subway train,...\n",
      "\n",
      "\n",
      "Cluster 54 summaries:\n",
      "        ID      Title                                            Summary\n",
      "338  10733  The Alamo  Based on the 1836 standoff between a group of ...\n",
      "\n",
      "\n",
      "Cluster 55 summaries:\n",
      "        ID                    Title                                            Summary\n",
      "7    99861  Avengers: Age of Ultron  When Tony Stark tries to jumpstart a dormant p...\n",
      "10    1452         Superman Returns  Superman returns to discover his 5-year absenc...\n",
      "108  87101       Terminator Genisys  The year is 2029. John Connor, leader of the r...\n",
      "301  83542              Cloud Atlas  A set of six nested stories spanning time betw...\n",
      "\n",
      "\n",
      "Cluster 56 summaries:\n",
      "      ID                   Title                                            Summary\n",
      "20  1930  The Amazing Spider-Man  Peter Parker is an outcast high schooler aband...\n",
      "\n",
      "\n",
      "Cluster 57 summaries:\n",
      "        ID           Title                                            Summary\n",
      "285  27581  The Other Guys  NYPD detectives Christopher Danson (Johnson) a...\n",
      "\n",
      "\n",
      "Cluster 58 summaries:\n",
      "         ID     Title                                            Summary\n",
      "304  184315  Hercules  Fourteen hundred years ago, a tormented soul w...\n",
      "\n",
      "\n",
      "Cluster 59 summaries:\n",
      "         ID                         Title                                            Summary\n",
      "4     49529                   John Carter  John Carter is a war-weary, former military ca...\n",
      "6     38757                       Tangled  When the kingdom's most wanted-and most charmi...\n",
      "42    10193                   Toy Story 3  Woody, Buzz, and the rest of Andy's toys haven...\n",
      "66    14160                            Up  Carl Fredricksen spent his entire life dreamin...\n",
      "69    44826                          Hugo  Hugo is an orphan boy living in the walls of a...\n",
      "77   150540                    Inside Out  Growing up can be a bumpy road, and it's no ex...\n",
      "80    58595   Snow White and the Huntsman  After the Evil Queen marries the King, she per...\n",
      "124  109445                        Frozen  Young princess Anna of Arendelle dreams about ...\n",
      "143  266647                           Pan  Living a bleak existence at a London orphanage...\n",
      "175  267935                       The BFG  The BFG is no ordinary bone-crunching giant. H...\n",
      "235    2395  Asterix at the Olympic Games  Astérix and Obélix have to win the Olympic Gam...\n",
      "269   10198     The Princess and the Frog  A waitress, desperate to fulfill her dreams as...\n",
      "326  150689                    Cinderella  When her father unexpectedly passes away, youn...\n",
      "352   10674                         Mulan  A tomboyish girl disguises herself as a young ...\n",
      "\n",
      "\n",
      "Cluster 60 summaries:\n",
      "         ID        Title                                            Summary\n",
      "244  254128  San Andreas  In the aftermath of a massive earthquake in Ca...\n",
      "\n",
      "\n",
      "Cluster 61 summaries:\n",
      "        ID          Title                                            Summary\n",
      "97  315011  Shin Godzilla  From the mind behind Evangelion comes a hit la...\n",
      "\n",
      "\n",
      "Cluster 62 summaries:\n",
      "        ID                                              Title                                            Summary\n",
      "189  86834                                               Noah  A man who suffers visions of an apocalyptic de...\n",
      "341  32657  Percy Jackson & the Olympians: The Lightning T...  Accident prone teenager, Percy discovers he's ...\n",
      "\n",
      "\n",
      "Cluster 63 summaries:\n",
      "       ID                            Title                                            Summary\n",
      "219  9471  Charlie's Angels: Full Throttle  The Angels are charged with finding a pair of ...\n",
      "\n",
      "\n",
      "Cluster 64 summaries:\n",
      "         ID Title                                            Summary\n",
      "294  116711  Epic  A teenager finds herself transported to a deep...\n",
      "\n",
      "\n",
      "Cluster 65 summaries:\n",
      "       ID       Title                                            Summary\n",
      "21  20662  Robin Hood  When soldier Robin happens upon the dying Robe...\n",
      "\n",
      "\n",
      "Cluster 66 summaries:\n",
      "         ID              Title                                            Summary\n",
      "11    10764  Quantum of Solace  Quantum of Solace continues the adventures of ...\n",
      "308  257088        Point Break  A young undercover FBI agent infiltrates a gan...\n",
      "\n",
      "\n",
      "Cluster 67 summaries:\n",
      "       ID                  Title                                            Summary\n",
      "48  81005  Jack the Giant Slayer  The story of an ancient war that is reignited ...\n",
      "\n",
      "\n",
      "Cluster 68 summaries:\n",
      "        ID            Title                                            Summary\n",
      "137  49444  Kung Fu Panda 2  Po is now living his dream as The Dragon Warri...\n",
      "\n",
      "\n",
      "Cluster 69 summaries:\n",
      "        ID                 Title                                            Summary\n",
      "62  258489  The Legend of Tarzan  Tarzan, having acclimated to life in London, i...\n",
      "\n",
      "\n",
      "Cluster 70 summaries:\n",
      "        ID               Title                                            Summary\n",
      "251  38745  Gulliver's Travels  Travel writer Lemuel Gulliver takes an assignm...\n",
      "\n",
      "\n",
      "Cluster 71 summaries:\n",
      "        ID                              Title                                            Summary\n",
      "36   91314    Transformers: Age of Extinction  As humanity picks up the pieces, following the...\n",
      "41   44912                      Green Lantern  For centuries, a small but powerful force of w...\n",
      "111   1858                       Transformers  Young teenager, Sam Witwicky becomes involved ...\n",
      "168   2114  Final Fantasy: The Spirits Within  Led by a strange dream, scientist Aki Ross str...\n",
      "220  70981                         Prometheus  A team of explorers discover a clue to the ori...\n",
      "\n",
      "\n",
      "Cluster 72 summaries:\n",
      "      ID           Title                                            Summary\n",
      "70  8487  Wild Wild West  Legless Southern inventor Dr. Arliss Loveless ...\n",
      "\n",
      "\n",
      "Cluster 73 summaries:\n",
      "       ID                      Title                                            Summary\n",
      "336  8204  The Spiderwick Chronicles  Upon moving into the run-down Spiderwick Estat...\n",
      "\n",
      "\n",
      "Cluster 74 summaries:\n",
      "       ID   Title                                            Summary\n",
      "40  49013  Cars 2  Star race car Lightning McQueen and his pal Ma...\n",
      "\n",
      "\n",
      "Cluster 75 summaries:\n",
      "         ID                 Title                                            Summary\n",
      "43      534  Terminator Salvation  All grown up in post-apocalyptic 2018, John Co...\n",
      "74   137113      Edge of Tomorrow  Major Bill Cage is an officer who has never se...\n",
      "245     714   Tomorrow Never Dies  A deranged media mogul is staging internationa...\n",
      "300     563     Starship Troopers  Set in the future, the story follows a young s...\n",
      "\n",
      "\n",
      "Cluster 76 summaries:\n",
      "        ID              Title                                            Summary\n",
      "133  62213       Dark Shadows  Vampire Barnabas Collins is inadvertently free...\n",
      "346   2655  What Lies Beneath  When Claire Spencer starts hearing ghostly voi...\n",
      "\n",
      "\n",
      "Cluster 77 summaries:\n",
      "        ID             Title                                            Summary\n",
      "306  18162  Land of the Lost  On his latest expedition, Dr. Rick Marshall is...\n",
      "\n",
      "\n",
      "Cluster 78 summaries:\n",
      "         ID                       Title                                            Summary\n",
      "218  324668                Jason Bourne  The most dangerous former operative of the CIA...\n",
      "248     787            Mr. & Mrs. Smith  After five (or six) years of vanilla-wedded bl...\n",
      "252   40805            The Green Hornet  Britt Reid (Seth Rogen), the heir to the large...\n",
      "261    1571       Live Free or Die Hard  John McClane is back and badder than ever, and...\n",
      "280   11322              Public Enemies  Depression-era bank robber John Dillinger's ch...\n",
      "327    7980            The Lovely Bones  After being brutally murdered, 14-year-old Sus...\n",
      "337   47964      A Good Day to Die Hard  Iconoclastic, take-no-prisoners cop John McCla...\n",
      "355    1572  Die Hard: With a Vengeance  New York detective John McClane is back and ki...\n",
      "356   10528             Sherlock Holmes  Eccentric consulting detective, Sherlock Holme...\n",
      "\n",
      "\n",
      "Cluster 79 summaries:\n",
      "        ID               Title                                            Summary\n",
      "101  49538  X-Men: First Class  Before Charles Xavier and Erik Lensherr took t...\n",
      "\n",
      "\n",
      "Cluster 80 summaries:\n",
      "        ID                  Title                                            Summary\n",
      "154  81188  Rise of the Guardians  When an evil spirit known as Pitch lays down t...\n",
      "\n",
      "\n",
      "Cluster 81 summaries:\n",
      "        ID Title                                            Summary\n",
      "129  10195  Thor  Against his father Odin's will, The Mighty Tho...\n",
      "\n",
      "\n",
      "Cluster 82 summaries:\n",
      "       ID                     Title                                            Summary\n",
      "122  2080  X-Men Origins: Wolverine  After seeking to live a normal life, Logan set...\n",
      "\n",
      "\n",
      "Cluster 83 summaries:\n",
      "       ID             Title                                            Summary\n",
      "49  64682  The Great Gatsby  An adaptation of F. Scott Fitzgerald's Long Is...\n",
      "\n",
      "\n",
      "Cluster 84 summaries:\n",
      "        ID                                          Title                                            Summary\n",
      "302  41216  Legend of the Guardians: The Owls of Ga'Hoole  Soren, a young barn owl, is kidnapped by owls ...\n",
      "\n",
      "\n",
      "Cluster 85 summaries:\n",
      "         ID           Title                                            Summary\n",
      "242  166424  Fantastic Four  Four young outsiders teleport to a dangerous u...\n",
      "\n",
      "\n",
      "Cluster 86 summaries:\n",
      "         ID             Title                                            Summary\n",
      "140  117251  White House Down  Capitol Policeman John Cale has just been deni...\n",
      "\n",
      "\n",
      "Cluster 87 summaries:\n",
      "      ID                              Title                                            Summary\n",
      "117  118  Charlie and the Chocolate Factory  A young boy wins a tour through the most magni...\n",
      "\n",
      "\n",
      "Cluster 88 summaries:\n",
      "        ID                                      Title                                            Summary\n",
      "172  50620  The Twilight Saga: Breaking Dawn - Part 2  After the birth of Renesmee, the Cullens gathe...\n",
      "\n",
      "\n",
      "Cluster 89 summaries:\n",
      "        ID                 Title                                            Summary\n",
      "314  29193  The Spanish Prisoner  An employee of a corporation with a lucrative ...\n",
      "\n",
      "\n",
      "Cluster 90 summaries:\n",
      "       ID              Title                                            Summary\n",
      "214  2133  The Perfect Storm  In October 1991, a confluence of weather condi...\n",
      "\n",
      "\n",
      "Cluster 91 summaries:\n",
      "        ID Title                                            Summary\n",
      "130  13053  Bolt  Bolt is the star of the biggest show in Hollyw...\n",
      "\n",
      "\n",
      "Cluster 92 summaries:\n",
      "       ID              Title                                            Summary\n",
      "315  1734  The Mummy Returns  Rick and Evelyn O'Connell, along with their 8 ...\n",
      "\n",
      "\n",
      "Cluster 93 summaries:\n",
      "        ID    Title                                            Summary\n",
      "2   206647  Spectre  A cryptic message from Bond’s past sends him o...\n",
      "29   37724  Skyfall  When Bond's latest assignment goes gravely wro...\n",
      "\n",
      "\n",
      "Cluster 94 summaries:\n",
      "         ID                                         Title                                            Summary\n",
      "30      558                                  Spider-Man 2  Peter Parker is going through a major identity...\n",
      "38   102382                      The Amazing Spider-Man 2  For Peter Parker, life is busy. Between taking...\n",
      "39    20526                                  TRON: Legacy  Sam Flynn, the tech-savvy and daring son of Ke...\n",
      "93      296            Terminator 3: Rise of the Machines  It's been 10 years since John Connor saved Ear...\n",
      "116    6479                                   I Am Legend  Robert Neville is a scientist who was unable t...\n",
      "125     604                           The Matrix Reloaded  Six months after the events depicted in The Ma...\n",
      "127   76341                            Mad Max: Fury Road  An apocalyptic story set in the furthest reach...\n",
      "128   13448                               Angels & Demons  Harvard symbologist Robert Langdon investigate...\n",
      "134  177677            Mission: Impossible - Rogue Nation  Ethan and team take on their most impossible m...\n",
      "153   56292          Mission: Impossible - Ghost Protocol  In the 4th installment of the Mission Impossib...\n",
      "155    7552                        Fun with Dick and Jane  After Dick Harper loses his job at Globodyne i...\n",
      "163   13183                                      Watchmen  In a gritty and alternate 1985 the glory days ...\n",
      "183  101299               The Hunger Games: Catching Fire  Katniss Everdeen has returned home safe after ...\n",
      "190   17578                      The Adventures of Tintin  Intrepid young reporter, Tintin and his loyal ...\n",
      "224   97020                                       RoboCop  In RoboCop, the year is 2028 and multinational...\n",
      "229    1895  Star Wars: Episode III - Revenge of the Sith  Years after the onset of the Clone Wars, the n...\n",
      "247     163                                Ocean's Twelve  Danny Ocean reunites with his old flame and th...\n",
      "266    2048                                      I, Robot  In 2035, where robots are common-place and abi...\n",
      "275     180                               Minority Report  John Anderton is a top 'Precrime' cop in the l...\n",
      "277   36557                                 Casino Royale  Le Chiffre, a banker to the world's terrorists...\n",
      "279     280                    Terminator 2: Judgment Day  Nearly 10 years have passed since Sarah Connor...\n",
      "299     414                                Batman Forever  The Dark Knight of Gotham City confronts a das...\n",
      "307  138103                             The Expendables 3  Barney, Christmas and the rest of the team com...\n",
      "\n",
      "\n",
      "Cluster 95 summaries:\n",
      "         ID                    Title                                            Summary\n",
      "94   118340  Guardians of the Galaxy  Light years from Earth, 26 years after being a...\n",
      "95   157336             Interstellar  Interstellar chronicles the adventures of a gr...\n",
      "141   50321          Mars Needs Moms  When Martians suddenly abduct his mom, mischie...\n",
      "149      95               Armageddon  When an asteroid threatens to collide with Ear...\n",
      "239   49047                  Gravity  Dr. Ryan Stone, a brilliant medical engineer o...\n",
      "270  286217              The Martian  During a manned mission to Mars, Astronaut Mar...\n",
      "305    9016          Treasure Planet  When space galleon cabin boy Jim Hawkins disco...\n",
      "\n",
      "\n",
      "Cluster 96 summaries:\n",
      "         ID                           Title                                            Summary\n",
      "24      254                       King Kong  In 1933 New York, an overly ambitious movie pr...\n",
      "28   135397                  Jurassic World  Twenty-two years after the events of Jurassic ...\n",
      "82   119450  Dawn of the Planet of the Apes  A group of scientists in San Francisco struggl...\n",
      "120   10527     Madagascar: Escape 2 Africa  Alex, Marty, Melman, Gloria, King Julien, Maur...\n",
      "194   10567                        Dinosaur  An orphaned dinosaur raised by lemurs joins an...\n",
      "202  172385                           Rio 2  It's a jungle out there for Blu, Jewel and the...\n",
      "209   49040               The Bourne Legacy  New CIA operative, Aaron Cross experiences lif...\n",
      "335   61791  Rise of the Planet of the Apes  Scientist Will Rodman is determined to find a ...\n",
      "348    8355  Ice Age: Dawn of the Dinosaurs  Times are changing for Manny the moody mammoth...\n",
      "\n",
      "\n",
      "Cluster 97 summaries:\n",
      "       ID               Title                                            Summary\n",
      "319  9890  The Stepford Wives  What does it take to become a Stepford wife, a...\n",
      "\n",
      "\n",
      "Cluster 98 summaries:\n",
      "        ID      Title                                            Summary\n",
      "158  13475  Star Trek  The fate of the galaxy rests in the hands of b...\n",
      "\n",
      "\n",
      "Cluster 99 summaries:\n",
      "        ID         Title                                            Summary\n",
      "260  80274  Ender's Game  Based on the classic novel by Orson Scott Card...\n",
      "\n",
      "\n",
      "Cluster 100 summaries:\n",
      "        ID           Title                                            Summary\n",
      "272  24113  Town & Country  Porter Stoddard is a well-known New York archi...\n",
      "\n",
      "\n",
      "Cluster 101 summaries:\n",
      "       ID Title                                            Summary\n",
      "264  8489   Ali  In 1964, a brash new pro boxer, fresh from his...\n",
      "\n",
      "\n",
      "Cluster 102 summaries:\n",
      "        ID            Title                                            Summary\n",
      "226  42888  How Do You Know  After being cut from the USA softball team and...\n",
      "\n",
      "\n",
      "Cluster 103 summaries:\n",
      "         ID                            Title                                            Summary\n",
      "349  116745  The Secret Life of Walter Mitty  A timid magazine photo manager who lives life ...\n",
      "\n",
      "\n",
      "Cluster 104 summaries:\n",
      "        ID                              Title                                            Summary\n",
      "347  22794  Cloudy with a Chance of Meatballs  Inventor Flint Lockwood creates a machine that...\n",
      "\n",
      "\n",
      "Cluster 105 summaries:\n",
      "         ID                                     Title                                            Summary\n",
      "15     2454  The Chronicles of Narnia: Prince Caspian  One year after their incredible adventures in ...\n",
      "23     2268                        The Golden Compass  After overhearing a shocking secret, precociou...\n",
      "73     2698                             Evan Almighty  God contacts Congressman Evan Baxter and tells...\n",
      "90     5255                         The Polar Express  When a doubting young boy takes an extraordina...\n",
      "144   82703                     Mr. Peabody & Sherman  A young boy and his dog, who happens to have a...\n",
      "151    2310                                   Beowulf  6th-century Scandinavian warrior, Beowulf emba...\n",
      "201     591                         The Da Vinci Code  When the curator of the Louvre is found murder...\n",
      "267    1495                         Kingdom of Heaven  After his wife dies, a blacksmith named Balian...\n",
      "288   10545               The Hunchback of Notre Dame  When Quasi defies the evil Frollo and ventures...\n",
      "296    9946                               End of Days  On December 28th, 1999, the citizens of New Yo...\n",
      "298  106646                   The Wolf of Wall Street  A New York stockbroker refuses to cooperate in...\n",
      "\n",
      "\n",
      "Cluster 106 summaries:\n",
      "        ID           Title                                            Summary\n",
      "284  39451  Little Fockers  It has taken 10 years, two little Fockers with...\n",
      "\n",
      "\n",
      "Cluster 107 summaries:\n",
      "         ID             Title                                            Summary\n",
      "5       559      Spider-Man 3  The seemingly invincible Spider-Man goes up ag...\n",
      "56   188927  Star Trek Beyond  The USS Enterprise crew explores the furthest ...\n",
      "88   177572        Big Hero 6  The special bond that develops between plus-si...\n",
      "159     557        Spider-Man  After being bitten by a genetically altered sp...\n",
      "\n",
      "\n",
      "Cluster 108 summaries:\n",
      "       ID           Title                                            Summary\n",
      "353  7446  Tropic Thunder  Vietnam veteran 'Four Leaf' Tayback's memoir, ...\n",
      "\n",
      "\n",
      "Cluster 109 summaries:\n",
      "       ID              Title                                            Summary\n",
      "291  2059  National Treasure  Modern treasure hunters, led by archaeologist ...\n",
      "\n",
      "\n",
      "Cluster 110 summaries:\n",
      "        ID                  Title                                            Summary\n",
      "324  10501  The Road to El Dorado  After a failed swindle, two con-men end up wit...\n",
      "\n",
      "\n",
      "Cluster 111 summaries:\n",
      "        ID        Title                                            Summary\n",
      "295  37710  The Tourist  American tourist Frank (Johnny Depp) meets mys...\n",
      "\n",
      "\n",
      "Cluster 112 summaries:\n",
      "       ID                Title                                            Summary\n",
      "32  12155  Alice in Wonderland  Alice, an unpretentious and individual 19-year...\n",
      "\n",
      "\n",
      "Cluster 113 summaries:\n",
      "        ID                   Title                                            Summary\n",
      "3    49026   The Dark Knight Rises  Following the death of District Attorney Harve...\n",
      "59   14161                    2012  Dr. Adrian Helmsley, part of a worldwide geoph...\n",
      "212    435  The Day After Tomorrow  After years of increases in the greenhouse eff...\n",
      "\n",
      "\n",
      "Cluster 114 summaries:\n",
      "       ID        Title                                            Summary\n",
      "250  2567  The Aviator  A biopic depicting the life of filmmaker and a...\n",
      "\n",
      "\n",
      "Cluster 115 summaries:\n",
      "      ID     Title                                            Summary\n",
      "303  314  Catwoman  Liquidated after discovering a corporate consp...\n",
      "\n",
      "\n",
      "Cluster 116 summaries:\n",
      "        ID              Title                                            Summary\n",
      "255  13700  Home on the Range  When a greedy outlaw schemes to take possessio...\n",
      "\n",
      "\n",
      "Cluster 117 summaries:\n",
      "         ID                                Title                                            Summary\n",
      "0     19995                               Avatar  In the 22nd century, a paraplegic Marine is di...\n",
      "34    62211                  Monsters University  A look at the relationship between Mike and Su...\n",
      "35     8373  Transformers: Revenge of the Fallen  Sam Witwicky leaves the Autobots behind for a ...\n",
      "44   168259                            Furious 7  Deckard Shaw seeks revenge against Dominic Tor...\n",
      "75     9804                           Waterworld  In a futuristic world where the polar ice caps...\n",
      "87   158852                         Tomorrowland  Bound by a shared destiny, a bright, optimisti...\n",
      "96    27205                            Inception  Cobb, a skilled thief who commits corporate es...\n",
      "115    8960                              Hancock  Hancock is a down-and-out superhero who's forc...\n",
      "123     605               The Matrix Revolutions  The human city of Zion defends itself against ...\n",
      "161  205584                        Gods of Egypt  A common thief joins a mythical god on a quest...\n",
      "177   77950                                Turbo  The tale of an ordinary garden snail who dream...\n",
      "204   51497                            Fast Five  Former cop Brian O'Conner partners with ex-con...\n",
      "207     861                         Total Recall  Construction worker Douglas Quaid discovers a ...\n",
      "271    1635                           The Island  In 2019, Lincoln Six-Echo is a resident of a s...\n",
      "287   68718                     Django Unchained  With the help of a German bounty hunter, a fre...\n",
      "311   11692         The Adventures of Pluto Nash  The year is 2087, the setting is the moon. Plu...\n",
      "322      18                    The Fifth Element  In 2257, a taxi driver is unintentionally give...\n",
      "333  157353                        Transcendence  Two leading computer scientists work toward th...\n",
      "339    9806                      The Incredibles  Bob Parr has given up his superhero days to lo...\n",
      "\n",
      "\n",
      "Cluster 118 summaries:\n",
      "        ID                           Title                                            Summary\n",
      "60   17979               A Christmas Carol  Miser Ebenezer Scrooge is awakened on Christma...\n",
      "211   8871  How the Grinch Stole Christmas  Inside a snowflake exists the magical land of ...\n",
      "\n",
      "\n",
      "Cluster 119 summaries:\n",
      "     ID            Title                                            Summary\n",
      "65  155  The Dark Knight  Batman raises the stakes in his war on crime. ...\n",
      "\n",
      "\n"
     ]
    }
   ],
   "source": [
    "import numpy as np\n",
    "from sklearn.decomposition import PCA\n",
    "import pandas as pd\n",
    "import seaborn as sns\n",
    "import matplotlib.pyplot as plt\n",
    "\n",
    "# Reshape the processed_data_array\n",
    "num_samples, embedding_dim = all_embeddings.shape\n",
    "\n",
    "reshaped_data_array = all_embeddings.reshape(num_samples, embedding_dim)\n",
    "\n",
    "# PCA for dimension reduction\n",
    "pca = PCA(n_components=2)\n",
    "reduced_data = pca.fit_transform(reshaped_data_array)\n",
    "\n",
    "# Create a DataFrame for easy plotting\n",
    "df = pd.DataFrame(reduced_data, columns=['x', 'y'])\n",
    "df['label'] = clustering.labels_\n",
    "df['Title'] = titles\n",
    "df['Summary'] = summaries\n",
    "df['ID'] = ids\n",
    "\n",
    "# Plot using seaborn\n",
    "plt.figure(figsize=(10, 10))\n",
    "sns.scatterplot(data=df, x='x', y='y', hue='label', palette='viridis', legend=True)\n",
    "plt.show()\n",
    "\n",
    "pd.set_option('display.width', 1000)\n",
    "pd.set_option('display.max_colwidth', 50)\n",
    "\n",
    "# Print out summaries from each cluster\n",
    "for i in range(number_of_clusters):  # Change this range depending on which clusters you want to look at\n",
    "    print(f'Cluster {i} summaries:')\n",
    "    print(df[df['label'] == i][['ID', 'Title', 'Summary']])\n",
    "    print('\\n')"
   ]
  },
  {
   "cell_type": "code",
   "execution_count": 10,
   "id": "eee27f10",
   "metadata": {
    "execution": {
     "iopub.execute_input": "2023-05-30T08:12:48.018967Z",
     "iopub.status.busy": "2023-05-30T08:12:48.017944Z",
     "iopub.status.idle": "2023-05-30T08:12:48.023208Z",
     "shell.execute_reply": "2023-05-30T08:12:48.022101Z"
    },
    "papermill": {
     "duration": 0.027125,
     "end_time": "2023-05-30T08:12:48.025444",
     "exception": false,
     "start_time": "2023-05-30T08:12:47.998319",
     "status": "completed"
    },
    "tags": []
   },
   "outputs": [],
   "source": [
    "# Get largest cluster size\n",
    "\n",
    "# cluster_counts = df['label'].value_counts()\n",
    "# largest_cluster = cluster_counts.idxmax()\n",
    "# largest_cluster_size = cluster_counts.max()\n",
    "\n",
    "# print(f\"The largest cluster is: {largest_cluster} with size: {largest_cluster_size}\")"
   ]
  }
 ],
 "metadata": {
  "kernelspec": {
   "display_name": "Python 3",
   "language": "python",
   "name": "python3"
  },
  "language_info": {
   "codemirror_mode": {
    "name": "ipython",
    "version": 3
   },
   "file_extension": ".py",
   "mimetype": "text/x-python",
   "name": "python",
   "nbconvert_exporter": "python",
   "pygments_lexer": "ipython3",
   "version": "3.8.16"
  },
  "papermill": {
   "default_parameters": {},
   "duration": 4201.048187,
   "end_time": "2023-05-30T08:12:54.183914",
   "environment_variables": {},
   "exception": null,
   "input_path": "__notebook__.ipynb",
   "output_path": "__notebook__.ipynb",
   "parameters": {},
   "start_time": "2023-05-30T07:02:53.135727",
   "version": "2.4.0"
  },
  "widgets": {
   "application/vnd.jupyter.widget-state+json": {
    "state": {
     "07dfb178c0f74091b99d829c486d3de8": {
      "model_module": "@jupyter-widgets/controls",
      "model_module_version": "2.0.0",
      "model_name": "ProgressStyleModel",
      "state": {
       "_model_module": "@jupyter-widgets/controls",
       "_model_module_version": "2.0.0",
       "_model_name": "ProgressStyleModel",
       "_view_count": null,
       "_view_module": "@jupyter-widgets/base",
       "_view_module_version": "2.0.0",
       "_view_name": "StyleView",
       "bar_color": null,
       "description_width": ""
      }
     },
     "0987743c551d4372b88f54937fc4443c": {
      "model_module": "@jupyter-widgets/base",
      "model_module_version": "2.0.0",
      "model_name": "LayoutModel",
      "state": {
       "_model_module": "@jupyter-widgets/base",
       "_model_module_version": "2.0.0",
       "_model_name": "LayoutModel",
       "_view_count": null,
       "_view_module": "@jupyter-widgets/base",
       "_view_module_version": "2.0.0",
       "_view_name": "LayoutView",
       "align_content": null,
       "align_items": null,
       "align_self": null,
       "border_bottom": null,
       "border_left": null,
       "border_right": null,
       "border_top": null,
       "bottom": null,
       "display": null,
       "flex": null,
       "flex_flow": null,
       "grid_area": null,
       "grid_auto_columns": null,
       "grid_auto_flow": null,
       "grid_auto_rows": null,
       "grid_column": null,
       "grid_gap": null,
       "grid_row": null,
       "grid_template_areas": null,
       "grid_template_columns": null,
       "grid_template_rows": null,
       "height": null,
       "justify_content": null,
       "justify_items": null,
       "left": null,
       "margin": null,
       "max_height": null,
       "max_width": null,
       "min_height": null,
       "min_width": null,
       "object_fit": null,
       "object_position": null,
       "order": null,
       "overflow": null,
       "padding": null,
       "right": null,
       "top": null,
       "visibility": null,
       "width": null
      }
     },
     "113dd477d7594cd291f03698a5706ee4": {
      "model_module": "@jupyter-widgets/controls",
      "model_module_version": "2.0.0",
      "model_name": "HBoxModel",
      "state": {
       "_dom_classes": [],
       "_model_module": "@jupyter-widgets/controls",
       "_model_module_version": "2.0.0",
       "_model_name": "HBoxModel",
       "_view_count": null,
       "_view_module": "@jupyter-widgets/controls",
       "_view_module_version": "2.0.0",
       "_view_name": "HBoxView",
       "box_style": "",
       "children": [
        "IPY_MODEL_4e547d50f0144290b1b438c25573105c",
        "IPY_MODEL_cbbfc481f2564940bffc95fb4ad7d0be",
        "IPY_MODEL_11c35ccadc164363b030259d7907e5af"
       ],
       "layout": "IPY_MODEL_c6cdb4d56f4145a4ba45c9576f24a93c",
       "tabbable": null,
       "tooltip": null
      }
     },
     "11c35ccadc164363b030259d7907e5af": {
      "model_module": "@jupyter-widgets/controls",
      "model_module_version": "2.0.0",
      "model_name": "HTMLModel",
      "state": {
       "_dom_classes": [],
       "_model_module": "@jupyter-widgets/controls",
       "_model_module_version": "2.0.0",
       "_model_name": "HTMLModel",
       "_view_count": null,
       "_view_module": "@jupyter-widgets/controls",
       "_view_module_version": "2.0.0",
       "_view_name": "HTMLView",
       "description": "",
       "description_allow_html": false,
       "layout": "IPY_MODEL_d9bb4504b7f64e53ae33133733fdf41a",
       "placeholder": "​",
       "style": "IPY_MODEL_22f79f74bcfb43f995c6d5c02722a513",
       "tabbable": null,
       "tooltip": null,
       "value": " 694/694 [00:00&lt;00:00, 38.8kB/s]"
      }
     },
     "158c0f4e4cf94e4f8f7276677c876e64": {
      "model_module": "@jupyter-widgets/controls",
      "model_module_version": "2.0.0",
      "model_name": "HTMLStyleModel",
      "state": {
       "_model_module": "@jupyter-widgets/controls",
       "_model_module_version": "2.0.0",
       "_model_name": "HTMLStyleModel",
       "_view_count": null,
       "_view_module": "@jupyter-widgets/base",
       "_view_module_version": "2.0.0",
       "_view_name": "StyleView",
       "background": null,
       "description_width": "",
       "font_size": null,
       "text_color": null
      }
     },
     "221b8a68af8f4853948a4680cb0d1945": {
      "model_module": "@jupyter-widgets/controls",
      "model_module_version": "2.0.0",
      "model_name": "HTMLStyleModel",
      "state": {
       "_model_module": "@jupyter-widgets/controls",
       "_model_module_version": "2.0.0",
       "_model_name": "HTMLStyleModel",
       "_view_count": null,
       "_view_module": "@jupyter-widgets/base",
       "_view_module_version": "2.0.0",
       "_view_name": "StyleView",
       "background": null,
       "description_width": "",
       "font_size": null,
       "text_color": null
      }
     },
     "22f79f74bcfb43f995c6d5c02722a513": {
      "model_module": "@jupyter-widgets/controls",
      "model_module_version": "2.0.0",
      "model_name": "HTMLStyleModel",
      "state": {
       "_model_module": "@jupyter-widgets/controls",
       "_model_module_version": "2.0.0",
       "_model_name": "HTMLStyleModel",
       "_view_count": null,
       "_view_module": "@jupyter-widgets/base",
       "_view_module_version": "2.0.0",
       "_view_name": "StyleView",
       "background": null,
       "description_width": "",
       "font_size": null,
       "text_color": null
      }
     },
     "30221b7de9874e8a837330c9b3032b9f": {
      "model_module": "@jupyter-widgets/controls",
      "model_module_version": "2.0.0",
      "model_name": "HTMLStyleModel",
      "state": {
       "_model_module": "@jupyter-widgets/controls",
       "_model_module_version": "2.0.0",
       "_model_name": "HTMLStyleModel",
       "_view_count": null,
       "_view_module": "@jupyter-widgets/base",
       "_view_module_version": "2.0.0",
       "_view_name": "StyleView",
       "background": null,
       "description_width": "",
       "font_size": null,
       "text_color": null
      }
     },
     "3f6b6b4cdaa348c29853ba115e33891d": {
      "model_module": "@jupyter-widgets/controls",
      "model_module_version": "2.0.0",
      "model_name": "FloatProgressModel",
      "state": {
       "_dom_classes": [],
       "_model_module": "@jupyter-widgets/controls",
       "_model_module_version": "2.0.0",
       "_model_name": "FloatProgressModel",
       "_view_count": null,
       "_view_module": "@jupyter-widgets/controls",
       "_view_module_version": "2.0.0",
       "_view_name": "ProgressView",
       "bar_style": "success",
       "description": "",
       "description_allow_html": false,
       "layout": "IPY_MODEL_4f1c19968cbd4bd39d0d525d31b3ef1d",
       "max": 898823,
       "min": 0,
       "orientation": "horizontal",
       "style": "IPY_MODEL_71b5ab5704c04ea691910373d25e7f79",
       "tabbable": null,
       "tooltip": null,
       "value": 898823
      }
     },
     "4e547d50f0144290b1b438c25573105c": {
      "model_module": "@jupyter-widgets/controls",
      "model_module_version": "2.0.0",
      "model_name": "HTMLModel",
      "state": {
       "_dom_classes": [],
       "_model_module": "@jupyter-widgets/controls",
       "_model_module_version": "2.0.0",
       "_model_name": "HTMLModel",
       "_view_count": null,
       "_view_module": "@jupyter-widgets/controls",
       "_view_module_version": "2.0.0",
       "_view_name": "HTMLView",
       "description": "",
       "description_allow_html": false,
       "layout": "IPY_MODEL_995f560e6e7e49f799fdc67e52270c90",
       "placeholder": "​",
       "style": "IPY_MODEL_158c0f4e4cf94e4f8f7276677c876e64",
       "tabbable": null,
       "tooltip": null,
       "value": "Downloading (…)lve/main/config.json: 100%"
      }
     },
     "4f1c19968cbd4bd39d0d525d31b3ef1d": {
      "model_module": "@jupyter-widgets/base",
      "model_module_version": "2.0.0",
      "model_name": "LayoutModel",
      "state": {
       "_model_module": "@jupyter-widgets/base",
       "_model_module_version": "2.0.0",
       "_model_name": "LayoutModel",
       "_view_count": null,
       "_view_module": "@jupyter-widgets/base",
       "_view_module_version": "2.0.0",
       "_view_name": "LayoutView",
       "align_content": null,
       "align_items": null,
       "align_self": null,
       "border_bottom": null,
       "border_left": null,
       "border_right": null,
       "border_top": null,
       "bottom": null,
       "display": null,
       "flex": null,
       "flex_flow": null,
       "grid_area": null,
       "grid_auto_columns": null,
       "grid_auto_flow": null,
       "grid_auto_rows": null,
       "grid_column": null,
       "grid_gap": null,
       "grid_row": null,
       "grid_template_areas": null,
       "grid_template_columns": null,
       "grid_template_rows": null,
       "height": null,
       "justify_content": null,
       "justify_items": null,
       "left": null,
       "margin": null,
       "max_height": null,
       "max_width": null,
       "min_height": null,
       "min_width": null,
       "object_fit": null,
       "object_position": null,
       "order": null,
       "overflow": null,
       "padding": null,
       "right": null,
       "top": null,
       "visibility": null,
       "width": null
      }
     },
     "568963c2f1e44d06948f0bd9abeaabcd": {
      "model_module": "@jupyter-widgets/controls",
      "model_module_version": "2.0.0",
      "model_name": "FloatProgressModel",
      "state": {
       "_dom_classes": [],
       "_model_module": "@jupyter-widgets/controls",
       "_model_module_version": "2.0.0",
       "_model_name": "FloatProgressModel",
       "_view_count": null,
       "_view_module": "@jupyter-widgets/controls",
       "_view_module_version": "2.0.0",
       "_view_name": "ProgressView",
       "bar_style": "success",
       "description": "",
       "description_allow_html": false,
       "layout": "IPY_MODEL_d139357b56784b26b1c4c8a204ef79c9",
       "max": 456318,
       "min": 0,
       "orientation": "horizontal",
       "style": "IPY_MODEL_07dfb178c0f74091b99d829c486d3de8",
       "tabbable": null,
       "tooltip": null,
       "value": 456318
      }
     },
     "66c11f22413f47b9896cc8bf1076cd3f": {
      "model_module": "@jupyter-widgets/base",
      "model_module_version": "2.0.0",
      "model_name": "LayoutModel",
      "state": {
       "_model_module": "@jupyter-widgets/base",
       "_model_module_version": "2.0.0",
       "_model_name": "LayoutModel",
       "_view_count": null,
       "_view_module": "@jupyter-widgets/base",
       "_view_module_version": "2.0.0",
       "_view_name": "LayoutView",
       "align_content": null,
       "align_items": null,
       "align_self": null,
       "border_bottom": null,
       "border_left": null,
       "border_right": null,
       "border_top": null,
       "bottom": null,
       "display": null,
       "flex": null,
       "flex_flow": null,
       "grid_area": null,
       "grid_auto_columns": null,
       "grid_auto_flow": null,
       "grid_auto_rows": null,
       "grid_column": null,
       "grid_gap": null,
       "grid_row": null,
       "grid_template_areas": null,
       "grid_template_columns": null,
       "grid_template_rows": null,
       "height": null,
       "justify_content": null,
       "justify_items": null,
       "left": null,
       "margin": null,
       "max_height": null,
       "max_width": null,
       "min_height": null,
       "min_width": null,
       "object_fit": null,
       "object_position": null,
       "order": null,
       "overflow": null,
       "padding": null,
       "right": null,
       "top": null,
       "visibility": null,
       "width": null
      }
     },
     "6786106df4ad48f4a633bb09e165dd4e": {
      "model_module": "@jupyter-widgets/controls",
      "model_module_version": "2.0.0",
      "model_name": "HTMLModel",
      "state": {
       "_dom_classes": [],
       "_model_module": "@jupyter-widgets/controls",
       "_model_module_version": "2.0.0",
       "_model_name": "HTMLModel",
       "_view_count": null,
       "_view_module": "@jupyter-widgets/controls",
       "_view_module_version": "2.0.0",
       "_view_name": "HTMLView",
       "description": "",
       "description_allow_html": false,
       "layout": "IPY_MODEL_66c11f22413f47b9896cc8bf1076cd3f",
       "placeholder": "​",
       "style": "IPY_MODEL_7b6277d7b97649acb8f68797994419d7",
       "tabbable": null,
       "tooltip": null,
       "value": " 456k/456k [00:00&lt;00:00, 36.6MB/s]"
      }
     },
     "6d536f0ccb31473ea67db19b4062bd28": {
      "model_module": "@jupyter-widgets/base",
      "model_module_version": "2.0.0",
      "model_name": "LayoutModel",
      "state": {
       "_model_module": "@jupyter-widgets/base",
       "_model_module_version": "2.0.0",
       "_model_name": "LayoutModel",
       "_view_count": null,
       "_view_module": "@jupyter-widgets/base",
       "_view_module_version": "2.0.0",
       "_view_name": "LayoutView",
       "align_content": null,
       "align_items": null,
       "align_self": null,
       "border_bottom": null,
       "border_left": null,
       "border_right": null,
       "border_top": null,
       "bottom": null,
       "display": null,
       "flex": null,
       "flex_flow": null,
       "grid_area": null,
       "grid_auto_columns": null,
       "grid_auto_flow": null,
       "grid_auto_rows": null,
       "grid_column": null,
       "grid_gap": null,
       "grid_row": null,
       "grid_template_areas": null,
       "grid_template_columns": null,
       "grid_template_rows": null,
       "height": null,
       "justify_content": null,
       "justify_items": null,
       "left": null,
       "margin": null,
       "max_height": null,
       "max_width": null,
       "min_height": null,
       "min_width": null,
       "object_fit": null,
       "object_position": null,
       "order": null,
       "overflow": null,
       "padding": null,
       "right": null,
       "top": null,
       "visibility": null,
       "width": null
      }
     },
     "71b5ab5704c04ea691910373d25e7f79": {
      "model_module": "@jupyter-widgets/controls",
      "model_module_version": "2.0.0",
      "model_name": "ProgressStyleModel",
      "state": {
       "_model_module": "@jupyter-widgets/controls",
       "_model_module_version": "2.0.0",
       "_model_name": "ProgressStyleModel",
       "_view_count": null,
       "_view_module": "@jupyter-widgets/base",
       "_view_module_version": "2.0.0",
       "_view_name": "StyleView",
       "bar_color": null,
       "description_width": ""
      }
     },
     "72883c840f6c409c825b4ae5a66609ec": {
      "model_module": "@jupyter-widgets/base",
      "model_module_version": "2.0.0",
      "model_name": "LayoutModel",
      "state": {
       "_model_module": "@jupyter-widgets/base",
       "_model_module_version": "2.0.0",
       "_model_name": "LayoutModel",
       "_view_count": null,
       "_view_module": "@jupyter-widgets/base",
       "_view_module_version": "2.0.0",
       "_view_name": "LayoutView",
       "align_content": null,
       "align_items": null,
       "align_self": null,
       "border_bottom": null,
       "border_left": null,
       "border_right": null,
       "border_top": null,
       "bottom": null,
       "display": null,
       "flex": null,
       "flex_flow": null,
       "grid_area": null,
       "grid_auto_columns": null,
       "grid_auto_flow": null,
       "grid_auto_rows": null,
       "grid_column": null,
       "grid_gap": null,
       "grid_row": null,
       "grid_template_areas": null,
       "grid_template_columns": null,
       "grid_template_rows": null,
       "height": null,
       "justify_content": null,
       "justify_items": null,
       "left": null,
       "margin": null,
       "max_height": null,
       "max_width": null,
       "min_height": null,
       "min_width": null,
       "object_fit": null,
       "object_position": null,
       "order": null,
       "overflow": null,
       "padding": null,
       "right": null,
       "top": null,
       "visibility": null,
       "width": null
      }
     },
     "78422bfa95f7429fa7cbed119c057c32": {
      "model_module": "@jupyter-widgets/controls",
      "model_module_version": "2.0.0",
      "model_name": "HTMLModel",
      "state": {
       "_dom_classes": [],
       "_model_module": "@jupyter-widgets/controls",
       "_model_module_version": "2.0.0",
       "_model_name": "HTMLModel",
       "_view_count": null,
       "_view_module": "@jupyter-widgets/controls",
       "_view_module_version": "2.0.0",
       "_view_name": "HTMLView",
       "description": "",
       "description_allow_html": false,
       "layout": "IPY_MODEL_9162f8e84e9b408eb8ad74130c84f34c",
       "placeholder": "​",
       "style": "IPY_MODEL_9cc03d8c137b444bb2d717db662778c5",
       "tabbable": null,
       "tooltip": null,
       "value": "Downloading tf_model.h5: 100%"
      }
     },
     "79e05d1f7734430994e5c70ec723dcec": {
      "model_module": "@jupyter-widgets/controls",
      "model_module_version": "2.0.0",
      "model_name": "HBoxModel",
      "state": {
       "_dom_classes": [],
       "_model_module": "@jupyter-widgets/controls",
       "_model_module_version": "2.0.0",
       "_model_name": "HBoxModel",
       "_view_count": null,
       "_view_module": "@jupyter-widgets/controls",
       "_view_module_version": "2.0.0",
       "_view_name": "HBoxView",
       "box_style": "",
       "children": [
        "IPY_MODEL_78422bfa95f7429fa7cbed119c057c32",
        "IPY_MODEL_8a46364956f14749952de97c3bd2fd52",
        "IPY_MODEL_a450caab144447b39499c806023bdd6e"
       ],
       "layout": "IPY_MODEL_8aaf882276224fb28c8e1ae809fc5bc5",
       "tabbable": null,
       "tooltip": null
      }
     },
     "7b6277d7b97649acb8f68797994419d7": {
      "model_module": "@jupyter-widgets/controls",
      "model_module_version": "2.0.0",
      "model_name": "HTMLStyleModel",
      "state": {
       "_model_module": "@jupyter-widgets/controls",
       "_model_module_version": "2.0.0",
       "_model_name": "HTMLStyleModel",
       "_view_count": null,
       "_view_module": "@jupyter-widgets/base",
       "_view_module_version": "2.0.0",
       "_view_name": "StyleView",
       "background": null,
       "description_width": "",
       "font_size": null,
       "text_color": null
      }
     },
     "897ca211e09844b48d158cb456bf5f29": {
      "model_module": "@jupyter-widgets/base",
      "model_module_version": "2.0.0",
      "model_name": "LayoutModel",
      "state": {
       "_model_module": "@jupyter-widgets/base",
       "_model_module_version": "2.0.0",
       "_model_name": "LayoutModel",
       "_view_count": null,
       "_view_module": "@jupyter-widgets/base",
       "_view_module_version": "2.0.0",
       "_view_name": "LayoutView",
       "align_content": null,
       "align_items": null,
       "align_self": null,
       "border_bottom": null,
       "border_left": null,
       "border_right": null,
       "border_top": null,
       "bottom": null,
       "display": null,
       "flex": null,
       "flex_flow": null,
       "grid_area": null,
       "grid_auto_columns": null,
       "grid_auto_flow": null,
       "grid_auto_rows": null,
       "grid_column": null,
       "grid_gap": null,
       "grid_row": null,
       "grid_template_areas": null,
       "grid_template_columns": null,
       "grid_template_rows": null,
       "height": null,
       "justify_content": null,
       "justify_items": null,
       "left": null,
       "margin": null,
       "max_height": null,
       "max_width": null,
       "min_height": null,
       "min_width": null,
       "object_fit": null,
       "object_position": null,
       "order": null,
       "overflow": null,
       "padding": null,
       "right": null,
       "top": null,
       "visibility": null,
       "width": null
      }
     },
     "8a46364956f14749952de97c3bd2fd52": {
      "model_module": "@jupyter-widgets/controls",
      "model_module_version": "2.0.0",
      "model_name": "FloatProgressModel",
      "state": {
       "_dom_classes": [],
       "_model_module": "@jupyter-widgets/controls",
       "_model_module_version": "2.0.0",
       "_model_name": "FloatProgressModel",
       "_view_count": null,
       "_view_module": "@jupyter-widgets/controls",
       "_view_module_version": "2.0.0",
       "_view_name": "ProgressView",
       "bar_style": "success",
       "description": "",
       "description_allow_html": false,
       "layout": "IPY_MODEL_72883c840f6c409c825b4ae5a66609ec",
       "max": 764566772,
       "min": 0,
       "orientation": "horizontal",
       "style": "IPY_MODEL_c3f08f6e2053496c850847295d739a08",
       "tabbable": null,
       "tooltip": null,
       "value": 764566772
      }
     },
     "8aaf882276224fb28c8e1ae809fc5bc5": {
      "model_module": "@jupyter-widgets/base",
      "model_module_version": "2.0.0",
      "model_name": "LayoutModel",
      "state": {
       "_model_module": "@jupyter-widgets/base",
       "_model_module_version": "2.0.0",
       "_model_name": "LayoutModel",
       "_view_count": null,
       "_view_module": "@jupyter-widgets/base",
       "_view_module_version": "2.0.0",
       "_view_name": "LayoutView",
       "align_content": null,
       "align_items": null,
       "align_self": null,
       "border_bottom": null,
       "border_left": null,
       "border_right": null,
       "border_top": null,
       "bottom": null,
       "display": null,
       "flex": null,
       "flex_flow": null,
       "grid_area": null,
       "grid_auto_columns": null,
       "grid_auto_flow": null,
       "grid_auto_rows": null,
       "grid_column": null,
       "grid_gap": null,
       "grid_row": null,
       "grid_template_areas": null,
       "grid_template_columns": null,
       "grid_template_rows": null,
       "height": null,
       "justify_content": null,
       "justify_items": null,
       "left": null,
       "margin": null,
       "max_height": null,
       "max_width": null,
       "min_height": null,
       "min_width": null,
       "object_fit": null,
       "object_position": null,
       "order": null,
       "overflow": null,
       "padding": null,
       "right": null,
       "top": null,
       "visibility": null,
       "width": null
      }
     },
     "9162f8e84e9b408eb8ad74130c84f34c": {
      "model_module": "@jupyter-widgets/base",
      "model_module_version": "2.0.0",
      "model_name": "LayoutModel",
      "state": {
       "_model_module": "@jupyter-widgets/base",
       "_model_module_version": "2.0.0",
       "_model_name": "LayoutModel",
       "_view_count": null,
       "_view_module": "@jupyter-widgets/base",
       "_view_module_version": "2.0.0",
       "_view_name": "LayoutView",
       "align_content": null,
       "align_items": null,
       "align_self": null,
       "border_bottom": null,
       "border_left": null,
       "border_right": null,
       "border_top": null,
       "bottom": null,
       "display": null,
       "flex": null,
       "flex_flow": null,
       "grid_area": null,
       "grid_auto_columns": null,
       "grid_auto_flow": null,
       "grid_auto_rows": null,
       "grid_column": null,
       "grid_gap": null,
       "grid_row": null,
       "grid_template_areas": null,
       "grid_template_columns": null,
       "grid_template_rows": null,
       "height": null,
       "justify_content": null,
       "justify_items": null,
       "left": null,
       "margin": null,
       "max_height": null,
       "max_width": null,
       "min_height": null,
       "min_width": null,
       "object_fit": null,
       "object_position": null,
       "order": null,
       "overflow": null,
       "padding": null,
       "right": null,
       "top": null,
       "visibility": null,
       "width": null
      }
     },
     "954f0f05e5514c5c82864e406214da8a": {
      "model_module": "@jupyter-widgets/controls",
      "model_module_version": "2.0.0",
      "model_name": "HTMLStyleModel",
      "state": {
       "_model_module": "@jupyter-widgets/controls",
       "_model_module_version": "2.0.0",
       "_model_name": "HTMLStyleModel",
       "_view_count": null,
       "_view_module": "@jupyter-widgets/base",
       "_view_module_version": "2.0.0",
       "_view_name": "StyleView",
       "background": null,
       "description_width": "",
       "font_size": null,
       "text_color": null
      }
     },
     "995f560e6e7e49f799fdc67e52270c90": {
      "model_module": "@jupyter-widgets/base",
      "model_module_version": "2.0.0",
      "model_name": "LayoutModel",
      "state": {
       "_model_module": "@jupyter-widgets/base",
       "_model_module_version": "2.0.0",
       "_model_name": "LayoutModel",
       "_view_count": null,
       "_view_module": "@jupyter-widgets/base",
       "_view_module_version": "2.0.0",
       "_view_name": "LayoutView",
       "align_content": null,
       "align_items": null,
       "align_self": null,
       "border_bottom": null,
       "border_left": null,
       "border_right": null,
       "border_top": null,
       "bottom": null,
       "display": null,
       "flex": null,
       "flex_flow": null,
       "grid_area": null,
       "grid_auto_columns": null,
       "grid_auto_flow": null,
       "grid_auto_rows": null,
       "grid_column": null,
       "grid_gap": null,
       "grid_row": null,
       "grid_template_areas": null,
       "grid_template_columns": null,
       "grid_template_rows": null,
       "height": null,
       "justify_content": null,
       "justify_items": null,
       "left": null,
       "margin": null,
       "max_height": null,
       "max_width": null,
       "min_height": null,
       "min_width": null,
       "object_fit": null,
       "object_position": null,
       "order": null,
       "overflow": null,
       "padding": null,
       "right": null,
       "top": null,
       "visibility": null,
       "width": null
      }
     },
     "9cc03d8c137b444bb2d717db662778c5": {
      "model_module": "@jupyter-widgets/controls",
      "model_module_version": "2.0.0",
      "model_name": "HTMLStyleModel",
      "state": {
       "_model_module": "@jupyter-widgets/controls",
       "_model_module_version": "2.0.0",
       "_model_name": "HTMLStyleModel",
       "_view_count": null,
       "_view_module": "@jupyter-widgets/base",
       "_view_module_version": "2.0.0",
       "_view_name": "StyleView",
       "background": null,
       "description_width": "",
       "font_size": null,
       "text_color": null
      }
     },
     "9fbcfc58c94c42b68f2274e8acb0c4bc": {
      "model_module": "@jupyter-widgets/controls",
      "model_module_version": "2.0.0",
      "model_name": "HTMLModel",
      "state": {
       "_dom_classes": [],
       "_model_module": "@jupyter-widgets/controls",
       "_model_module_version": "2.0.0",
       "_model_name": "HTMLModel",
       "_view_count": null,
       "_view_module": "@jupyter-widgets/controls",
       "_view_module_version": "2.0.0",
       "_view_name": "HTMLView",
       "description": "",
       "description_allow_html": false,
       "layout": "IPY_MODEL_c5edf1a6041346188fd11eb5f68796d3",
       "placeholder": "​",
       "style": "IPY_MODEL_221b8a68af8f4853948a4680cb0d1945",
       "tabbable": null,
       "tooltip": null,
       "value": " 899k/899k [00:00&lt;00:00, 9.36MB/s]"
      }
     },
     "a450caab144447b39499c806023bdd6e": {
      "model_module": "@jupyter-widgets/controls",
      "model_module_version": "2.0.0",
      "model_name": "HTMLModel",
      "state": {
       "_dom_classes": [],
       "_model_module": "@jupyter-widgets/controls",
       "_model_module_version": "2.0.0",
       "_model_name": "HTMLModel",
       "_view_count": null,
       "_view_module": "@jupyter-widgets/controls",
       "_view_module_version": "2.0.0",
       "_view_name": "HTMLView",
       "description": "",
       "description_allow_html": false,
       "layout": "IPY_MODEL_d4e0c85971e44ef4b1bdf683017e14ae",
       "placeholder": "​",
       "style": "IPY_MODEL_954f0f05e5514c5c82864e406214da8a",
       "tabbable": null,
       "tooltip": null,
       "value": " 765M/765M [00:17&lt;00:00, 49.8MB/s]"
      }
     },
     "a9c406c4328e408ea4f883d417b1bbdf": {
      "model_module": "@jupyter-widgets/controls",
      "model_module_version": "2.0.0",
      "model_name": "HBoxModel",
      "state": {
       "_dom_classes": [],
       "_model_module": "@jupyter-widgets/controls",
       "_model_module_version": "2.0.0",
       "_model_name": "HBoxModel",
       "_view_count": null,
       "_view_module": "@jupyter-widgets/controls",
       "_view_module_version": "2.0.0",
       "_view_name": "HBoxView",
       "box_style": "",
       "children": [
        "IPY_MODEL_af9f2ccd1f8647229635dabf73ad8ee9",
        "IPY_MODEL_3f6b6b4cdaa348c29853ba115e33891d",
        "IPY_MODEL_9fbcfc58c94c42b68f2274e8acb0c4bc"
       ],
       "layout": "IPY_MODEL_f2eb4c6a3f114a8aa4f9396f6f80559f",
       "tabbable": null,
       "tooltip": null
      }
     },
     "aa49d96e514d4ee8aca86e8f44f98587": {
      "model_module": "@jupyter-widgets/controls",
      "model_module_version": "2.0.0",
      "model_name": "HTMLStyleModel",
      "state": {
       "_model_module": "@jupyter-widgets/controls",
       "_model_module_version": "2.0.0",
       "_model_name": "HTMLStyleModel",
       "_view_count": null,
       "_view_module": "@jupyter-widgets/base",
       "_view_module_version": "2.0.0",
       "_view_name": "StyleView",
       "background": null,
       "description_width": "",
       "font_size": null,
       "text_color": null
      }
     },
     "ae0a0b10961f426f984d57f7adecfc1c": {
      "model_module": "@jupyter-widgets/controls",
      "model_module_version": "2.0.0",
      "model_name": "ProgressStyleModel",
      "state": {
       "_model_module": "@jupyter-widgets/controls",
       "_model_module_version": "2.0.0",
       "_model_name": "ProgressStyleModel",
       "_view_count": null,
       "_view_module": "@jupyter-widgets/base",
       "_view_module_version": "2.0.0",
       "_view_name": "StyleView",
       "bar_color": null,
       "description_width": ""
      }
     },
     "af9f2ccd1f8647229635dabf73ad8ee9": {
      "model_module": "@jupyter-widgets/controls",
      "model_module_version": "2.0.0",
      "model_name": "HTMLModel",
      "state": {
       "_dom_classes": [],
       "_model_module": "@jupyter-widgets/controls",
       "_model_module_version": "2.0.0",
       "_model_name": "HTMLModel",
       "_view_count": null,
       "_view_module": "@jupyter-widgets/controls",
       "_view_module_version": "2.0.0",
       "_view_name": "HTMLView",
       "description": "",
       "description_allow_html": false,
       "layout": "IPY_MODEL_897ca211e09844b48d158cb456bf5f29",
       "placeholder": "​",
       "style": "IPY_MODEL_aa49d96e514d4ee8aca86e8f44f98587",
       "tabbable": null,
       "tooltip": null,
       "value": "Downloading (…)olve/main/vocab.json: 100%"
      }
     },
     "bbc8a2b8cbe84f9ebd366329c63d4fd2": {
      "model_module": "@jupyter-widgets/base",
      "model_module_version": "2.0.0",
      "model_name": "LayoutModel",
      "state": {
       "_model_module": "@jupyter-widgets/base",
       "_model_module_version": "2.0.0",
       "_model_name": "LayoutModel",
       "_view_count": null,
       "_view_module": "@jupyter-widgets/base",
       "_view_module_version": "2.0.0",
       "_view_name": "LayoutView",
       "align_content": null,
       "align_items": null,
       "align_self": null,
       "border_bottom": null,
       "border_left": null,
       "border_right": null,
       "border_top": null,
       "bottom": null,
       "display": null,
       "flex": null,
       "flex_flow": null,
       "grid_area": null,
       "grid_auto_columns": null,
       "grid_auto_flow": null,
       "grid_auto_rows": null,
       "grid_column": null,
       "grid_gap": null,
       "grid_row": null,
       "grid_template_areas": null,
       "grid_template_columns": null,
       "grid_template_rows": null,
       "height": null,
       "justify_content": null,
       "justify_items": null,
       "left": null,
       "margin": null,
       "max_height": null,
       "max_width": null,
       "min_height": null,
       "min_width": null,
       "object_fit": null,
       "object_position": null,
       "order": null,
       "overflow": null,
       "padding": null,
       "right": null,
       "top": null,
       "visibility": null,
       "width": null
      }
     },
     "c3f08f6e2053496c850847295d739a08": {
      "model_module": "@jupyter-widgets/controls",
      "model_module_version": "2.0.0",
      "model_name": "ProgressStyleModel",
      "state": {
       "_model_module": "@jupyter-widgets/controls",
       "_model_module_version": "2.0.0",
       "_model_name": "ProgressStyleModel",
       "_view_count": null,
       "_view_module": "@jupyter-widgets/base",
       "_view_module_version": "2.0.0",
       "_view_name": "StyleView",
       "bar_color": null,
       "description_width": ""
      }
     },
     "c5edf1a6041346188fd11eb5f68796d3": {
      "model_module": "@jupyter-widgets/base",
      "model_module_version": "2.0.0",
      "model_name": "LayoutModel",
      "state": {
       "_model_module": "@jupyter-widgets/base",
       "_model_module_version": "2.0.0",
       "_model_name": "LayoutModel",
       "_view_count": null,
       "_view_module": "@jupyter-widgets/base",
       "_view_module_version": "2.0.0",
       "_view_name": "LayoutView",
       "align_content": null,
       "align_items": null,
       "align_self": null,
       "border_bottom": null,
       "border_left": null,
       "border_right": null,
       "border_top": null,
       "bottom": null,
       "display": null,
       "flex": null,
       "flex_flow": null,
       "grid_area": null,
       "grid_auto_columns": null,
       "grid_auto_flow": null,
       "grid_auto_rows": null,
       "grid_column": null,
       "grid_gap": null,
       "grid_row": null,
       "grid_template_areas": null,
       "grid_template_columns": null,
       "grid_template_rows": null,
       "height": null,
       "justify_content": null,
       "justify_items": null,
       "left": null,
       "margin": null,
       "max_height": null,
       "max_width": null,
       "min_height": null,
       "min_width": null,
       "object_fit": null,
       "object_position": null,
       "order": null,
       "overflow": null,
       "padding": null,
       "right": null,
       "top": null,
       "visibility": null,
       "width": null
      }
     },
     "c6cdb4d56f4145a4ba45c9576f24a93c": {
      "model_module": "@jupyter-widgets/base",
      "model_module_version": "2.0.0",
      "model_name": "LayoutModel",
      "state": {
       "_model_module": "@jupyter-widgets/base",
       "_model_module_version": "2.0.0",
       "_model_name": "LayoutModel",
       "_view_count": null,
       "_view_module": "@jupyter-widgets/base",
       "_view_module_version": "2.0.0",
       "_view_name": "LayoutView",
       "align_content": null,
       "align_items": null,
       "align_self": null,
       "border_bottom": null,
       "border_left": null,
       "border_right": null,
       "border_top": null,
       "bottom": null,
       "display": null,
       "flex": null,
       "flex_flow": null,
       "grid_area": null,
       "grid_auto_columns": null,
       "grid_auto_flow": null,
       "grid_auto_rows": null,
       "grid_column": null,
       "grid_gap": null,
       "grid_row": null,
       "grid_template_areas": null,
       "grid_template_columns": null,
       "grid_template_rows": null,
       "height": null,
       "justify_content": null,
       "justify_items": null,
       "left": null,
       "margin": null,
       "max_height": null,
       "max_width": null,
       "min_height": null,
       "min_width": null,
       "object_fit": null,
       "object_position": null,
       "order": null,
       "overflow": null,
       "padding": null,
       "right": null,
       "top": null,
       "visibility": null,
       "width": null
      }
     },
     "c8bf57df5c96498e8633c1baa75cafa9": {
      "model_module": "@jupyter-widgets/controls",
      "model_module_version": "2.0.0",
      "model_name": "HBoxModel",
      "state": {
       "_dom_classes": [],
       "_model_module": "@jupyter-widgets/controls",
       "_model_module_version": "2.0.0",
       "_model_name": "HBoxModel",
       "_view_count": null,
       "_view_module": "@jupyter-widgets/controls",
       "_view_module_version": "2.0.0",
       "_view_name": "HBoxView",
       "box_style": "",
       "children": [
        "IPY_MODEL_fa2beb6d5bd94fb8887780dc5bb430b5",
        "IPY_MODEL_568963c2f1e44d06948f0bd9abeaabcd",
        "IPY_MODEL_6786106df4ad48f4a633bb09e165dd4e"
       ],
       "layout": "IPY_MODEL_0987743c551d4372b88f54937fc4443c",
       "tabbable": null,
       "tooltip": null
      }
     },
     "cbbfc481f2564940bffc95fb4ad7d0be": {
      "model_module": "@jupyter-widgets/controls",
      "model_module_version": "2.0.0",
      "model_name": "FloatProgressModel",
      "state": {
       "_dom_classes": [],
       "_model_module": "@jupyter-widgets/controls",
       "_model_module_version": "2.0.0",
       "_model_name": "FloatProgressModel",
       "_view_count": null,
       "_view_module": "@jupyter-widgets/controls",
       "_view_module_version": "2.0.0",
       "_view_name": "ProgressView",
       "bar_style": "success",
       "description": "",
       "description_allow_html": false,
       "layout": "IPY_MODEL_6d536f0ccb31473ea67db19b4062bd28",
       "max": 694,
       "min": 0,
       "orientation": "horizontal",
       "style": "IPY_MODEL_ae0a0b10961f426f984d57f7adecfc1c",
       "tabbable": null,
       "tooltip": null,
       "value": 694
      }
     },
     "d139357b56784b26b1c4c8a204ef79c9": {
      "model_module": "@jupyter-widgets/base",
      "model_module_version": "2.0.0",
      "model_name": "LayoutModel",
      "state": {
       "_model_module": "@jupyter-widgets/base",
       "_model_module_version": "2.0.0",
       "_model_name": "LayoutModel",
       "_view_count": null,
       "_view_module": "@jupyter-widgets/base",
       "_view_module_version": "2.0.0",
       "_view_name": "LayoutView",
       "align_content": null,
       "align_items": null,
       "align_self": null,
       "border_bottom": null,
       "border_left": null,
       "border_right": null,
       "border_top": null,
       "bottom": null,
       "display": null,
       "flex": null,
       "flex_flow": null,
       "grid_area": null,
       "grid_auto_columns": null,
       "grid_auto_flow": null,
       "grid_auto_rows": null,
       "grid_column": null,
       "grid_gap": null,
       "grid_row": null,
       "grid_template_areas": null,
       "grid_template_columns": null,
       "grid_template_rows": null,
       "height": null,
       "justify_content": null,
       "justify_items": null,
       "left": null,
       "margin": null,
       "max_height": null,
       "max_width": null,
       "min_height": null,
       "min_width": null,
       "object_fit": null,
       "object_position": null,
       "order": null,
       "overflow": null,
       "padding": null,
       "right": null,
       "top": null,
       "visibility": null,
       "width": null
      }
     },
     "d4e0c85971e44ef4b1bdf683017e14ae": {
      "model_module": "@jupyter-widgets/base",
      "model_module_version": "2.0.0",
      "model_name": "LayoutModel",
      "state": {
       "_model_module": "@jupyter-widgets/base",
       "_model_module_version": "2.0.0",
       "_model_name": "LayoutModel",
       "_view_count": null,
       "_view_module": "@jupyter-widgets/base",
       "_view_module_version": "2.0.0",
       "_view_name": "LayoutView",
       "align_content": null,
       "align_items": null,
       "align_self": null,
       "border_bottom": null,
       "border_left": null,
       "border_right": null,
       "border_top": null,
       "bottom": null,
       "display": null,
       "flex": null,
       "flex_flow": null,
       "grid_area": null,
       "grid_auto_columns": null,
       "grid_auto_flow": null,
       "grid_auto_rows": null,
       "grid_column": null,
       "grid_gap": null,
       "grid_row": null,
       "grid_template_areas": null,
       "grid_template_columns": null,
       "grid_template_rows": null,
       "height": null,
       "justify_content": null,
       "justify_items": null,
       "left": null,
       "margin": null,
       "max_height": null,
       "max_width": null,
       "min_height": null,
       "min_width": null,
       "object_fit": null,
       "object_position": null,
       "order": null,
       "overflow": null,
       "padding": null,
       "right": null,
       "top": null,
       "visibility": null,
       "width": null
      }
     },
     "d9bb4504b7f64e53ae33133733fdf41a": {
      "model_module": "@jupyter-widgets/base",
      "model_module_version": "2.0.0",
      "model_name": "LayoutModel",
      "state": {
       "_model_module": "@jupyter-widgets/base",
       "_model_module_version": "2.0.0",
       "_model_name": "LayoutModel",
       "_view_count": null,
       "_view_module": "@jupyter-widgets/base",
       "_view_module_version": "2.0.0",
       "_view_name": "LayoutView",
       "align_content": null,
       "align_items": null,
       "align_self": null,
       "border_bottom": null,
       "border_left": null,
       "border_right": null,
       "border_top": null,
       "bottom": null,
       "display": null,
       "flex": null,
       "flex_flow": null,
       "grid_area": null,
       "grid_auto_columns": null,
       "grid_auto_flow": null,
       "grid_auto_rows": null,
       "grid_column": null,
       "grid_gap": null,
       "grid_row": null,
       "grid_template_areas": null,
       "grid_template_columns": null,
       "grid_template_rows": null,
       "height": null,
       "justify_content": null,
       "justify_items": null,
       "left": null,
       "margin": null,
       "max_height": null,
       "max_width": null,
       "min_height": null,
       "min_width": null,
       "object_fit": null,
       "object_position": null,
       "order": null,
       "overflow": null,
       "padding": null,
       "right": null,
       "top": null,
       "visibility": null,
       "width": null
      }
     },
     "f2eb4c6a3f114a8aa4f9396f6f80559f": {
      "model_module": "@jupyter-widgets/base",
      "model_module_version": "2.0.0",
      "model_name": "LayoutModel",
      "state": {
       "_model_module": "@jupyter-widgets/base",
       "_model_module_version": "2.0.0",
       "_model_name": "LayoutModel",
       "_view_count": null,
       "_view_module": "@jupyter-widgets/base",
       "_view_module_version": "2.0.0",
       "_view_name": "LayoutView",
       "align_content": null,
       "align_items": null,
       "align_self": null,
       "border_bottom": null,
       "border_left": null,
       "border_right": null,
       "border_top": null,
       "bottom": null,
       "display": null,
       "flex": null,
       "flex_flow": null,
       "grid_area": null,
       "grid_auto_columns": null,
       "grid_auto_flow": null,
       "grid_auto_rows": null,
       "grid_column": null,
       "grid_gap": null,
       "grid_row": null,
       "grid_template_areas": null,
       "grid_template_columns": null,
       "grid_template_rows": null,
       "height": null,
       "justify_content": null,
       "justify_items": null,
       "left": null,
       "margin": null,
       "max_height": null,
       "max_width": null,
       "min_height": null,
       "min_width": null,
       "object_fit": null,
       "object_position": null,
       "order": null,
       "overflow": null,
       "padding": null,
       "right": null,
       "top": null,
       "visibility": null,
       "width": null
      }
     },
     "fa2beb6d5bd94fb8887780dc5bb430b5": {
      "model_module": "@jupyter-widgets/controls",
      "model_module_version": "2.0.0",
      "model_name": "HTMLModel",
      "state": {
       "_dom_classes": [],
       "_model_module": "@jupyter-widgets/controls",
       "_model_module_version": "2.0.0",
       "_model_name": "HTMLModel",
       "_view_count": null,
       "_view_module": "@jupyter-widgets/controls",
       "_view_module_version": "2.0.0",
       "_view_name": "HTMLView",
       "description": "",
       "description_allow_html": false,
       "layout": "IPY_MODEL_bbc8a2b8cbe84f9ebd366329c63d4fd2",
       "placeholder": "​",
       "style": "IPY_MODEL_30221b7de9874e8a837330c9b3032b9f",
       "tabbable": null,
       "tooltip": null,
       "value": "Downloading (…)olve/main/merges.txt: 100%"
      }
     }
    },
    "version_major": 2,
    "version_minor": 0
   }
  }
 },
 "nbformat": 4,
 "nbformat_minor": 5
}
